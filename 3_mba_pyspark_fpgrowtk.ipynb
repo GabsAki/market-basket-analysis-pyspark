{
 "cells": [
  {
   "cell_type": "code",
   "execution_count": 2,
   "metadata": {},
   "outputs": [],
   "source": [
    "from pyspark.sql import SparkSession"
   ]
  },
  {
   "cell_type": "code",
   "execution_count": 3,
   "metadata": {},
   "outputs": [
    {
     "name": "stderr",
     "output_type": "stream",
     "text": [
      "23/11/02 18:38:51 WARN Utils: Your hostname, gabs-Aspire-A514-54 resolves to a loopback address: 127.0.1.1; using 192.168.15.33 instead (on interface wlp0s20f3)\n",
      "23/11/02 18:38:51 WARN Utils: Set SPARK_LOCAL_IP if you need to bind to another address\n",
      "Setting default log level to \"WARN\".\n",
      "To adjust logging level use sc.setLogLevel(newLevel). For SparkR, use setLogLevel(newLevel).\n",
      "23/11/02 18:38:52 WARN NativeCodeLoader: Unable to load native-hadoop library for your platform... using builtin-java classes where applicable\n"
     ]
    }
   ],
   "source": [
    "spark = SparkSession.builder \\\n",
    "    .appName(\"MarketBasketPyspark\") \\\n",
    "    .getOrCreate()"
   ]
  },
  {
   "cell_type": "code",
   "execution_count": null,
   "metadata": {},
   "outputs": [],
   "source": [
    "from pyspark.sql import functions as f"
   ]
  },
  {
   "cell_type": "code",
   "execution_count": 4,
   "metadata": {},
   "outputs": [
    {
     "name": "stdout",
     "output_type": "stream",
     "text": [
      "+-----------+------------------+-------------------+------+----+----+----+----+----+----+----+---+\n",
      "|          0|                 1|                  2|     3|   4|   5|   6|   7|   8|   9|  10| id|\n",
      "+-----------+------------------+-------------------+------+----+----+----+----+----+----+----+---+\n",
      "| whole milk|            pastry|        salty snack|  NULL|NULL|NULL|NULL|NULL|NULL|NULL|NULL|  0|\n",
      "|    sausage|        whole milk|semi-finished bread|yogurt|NULL|NULL|NULL|NULL|NULL|NULL|NULL|  1|\n",
      "|       soda|pickled vegetables|               NULL|  NULL|NULL|NULL|NULL|NULL|NULL|NULL|NULL|  2|\n",
      "|canned beer|   misc. beverages|               NULL|  NULL|NULL|NULL|NULL|NULL|NULL|NULL|NULL|  3|\n",
      "|    sausage|  hygiene articles|               NULL|  NULL|NULL|NULL|NULL|NULL|NULL|NULL|NULL|  4|\n",
      "+-----------+------------------+-------------------+------+----+----+----+----+----+----+----+---+\n",
      "only showing top 5 rows\n",
      "\n"
     ]
    }
   ],
   "source": [
    "df = spark.read.csv(\"data/basket.csv\", header=True).withColumn(\"id\", f.monotonically_increasing_id())\n",
    "df.show(5)"
   ]
  },
  {
   "cell_type": "code",
   "execution_count": 5,
   "metadata": {},
   "outputs": [
    {
     "name": "stdout",
     "output_type": "stream",
     "text": [
      "+-------------+----------+----------------+---+\n",
      "|Member_number|      Date| itemDescription| id|\n",
      "+-------------+----------+----------------+---+\n",
      "|         1808|21-07-2015|  tropical fruit|  0|\n",
      "|         2552|05-01-2015|      whole milk|  1|\n",
      "|         2300|19-09-2015|       pip fruit|  2|\n",
      "|         1187|12-12-2015|other vegetables|  3|\n",
      "|         3037|01-02-2015|      whole milk|  4|\n",
      "+-------------+----------+----------------+---+\n",
      "only showing top 5 rows\n",
      "\n"
     ]
    }
   ],
   "source": [
    "df_all = spark.read.csv('data/Groceries_dataset.csv', header=True).withColumn('id', f.monotonically_increasing_id())\n",
    "df_all.show(5)"
   ]
  },
  {
   "cell_type": "code",
   "execution_count": 8,
   "metadata": {},
   "outputs": [
    {
     "name": "stdout",
     "output_type": "stream",
     "text": [
      "+-------------+-----+\n",
      "|Member_number|count|\n",
      "+-------------+-----+\n",
      "|         2904|   10|\n",
      "|         3959|   14|\n",
      "|         2294|   23|\n",
      "|         4032|    4|\n",
      "|         1512|   10|\n",
      "+-------------+-----+\n",
      "only showing top 5 rows\n",
      "\n"
     ]
    }
   ],
   "source": [
    "# Count how many purchases per customer\n",
    "num_purchases = df_all.groupBy('Member_number').count()\n",
    "num_purchases.show(5)"
   ]
  },
  {
   "cell_type": "code",
   "execution_count": 9,
   "metadata": {},
   "outputs": [],
   "source": [
    "import matplotlib.pyplot as plt\n",
    "from pyspark_dist_explore import hist"
   ]
  },
  {
   "cell_type": "code",
   "execution_count": 10,
   "metadata": {},
   "outputs": [
    {
     "name": "stderr",
     "output_type": "stream",
     "text": [
      "                                                                                \r"
     ]
    },
    {
     "data": {
      "text/plain": [
       "(array([302., 328., 178., 371., 237., 341., 251., 538., 252., 192., 179.,\n",
       "        144., 136., 109.,  69., 110.,  49.,  23.,  29.,  14.,  11.,   9.,\n",
       "         13.,   4.,   1.,   4.,   0.,   3.,   0.,   1.]),\n",
       " array([ 2.        ,  3.13333333,  4.26666667,  5.4       ,  6.53333333,\n",
       "         7.66666667,  8.8       ,  9.93333333, 11.06666667, 12.2       ,\n",
       "        13.33333333, 14.46666667, 15.6       , 16.73333333, 17.86666667,\n",
       "        19.        , 20.13333333, 21.26666667, 22.4       , 23.53333333,\n",
       "        24.66666667, 25.8       , 26.93333333, 28.06666667, 29.2       ,\n",
       "        30.33333333, 31.46666667, 32.6       , 33.73333333, 34.86666667,\n",
       "        36.        ]),\n",
       " <BarContainer object of 30 artists>)"
      ]
     },
     "execution_count": 10,
     "metadata": {},
     "output_type": "execute_result"
    },
    {
     "data": {
      "image/png": "[encoded data removed]",
      "text/plain": [
       "<Figure size 640x480 with 1 Axes>"
      ]
     },
     "metadata": {},
     "output_type": "display_data"
    }
   ],
   "source": [
    "# Plotting the distribution of number of purchases\n",
    "fig, ax = plt.subplots()\n",
    "hist(ax, num_purchases.select('count'), bins=30, color=['blue'])"
   ]
  },
  {
   "cell_type": "code",
   "execution_count": 13,
   "metadata": {},
   "outputs": [
    {
     "name": "stdout",
     "output_type": "stream",
     "text": [
      "+---+--------------------------------------------------------------------------------------------+\n",
      "|id |basket                                                                                      |\n",
      "+---+--------------------------------------------------------------------------------------------+\n",
      "|0  |[whole milk, pastry, salty snack, NULL, NULL, NULL, NULL, NULL, NULL, NULL, NULL]           |\n",
      "|1  |[sausage, whole milk, semi-finished bread, yogurt, NULL, NULL, NULL, NULL, NULL, NULL, NULL]|\n",
      "|2  |[soda, pickled vegetables, NULL, NULL, NULL, NULL, NULL, NULL, NULL, NULL, NULL]            |\n",
      "|3  |[canned beer, misc. beverages, NULL, NULL, NULL, NULL, NULL, NULL, NULL, NULL, NULL]        |\n",
      "|4  |[sausage, hygiene articles, NULL, NULL, NULL, NULL, NULL, NULL, NULL, NULL, NULL]           |\n",
      "+---+--------------------------------------------------------------------------------------------+\n",
      "only showing top 5 rows\n",
      "\n"
     ]
    }
   ],
   "source": [
    "df_basket = df.select('id', f.array([df[c] for c in df.columns[:11]]).alias('basket'))\n",
    "df_basket.show(5, truncate=False)"
   ]
  },
  {
   "cell_type": "code",
   "execution_count": 14,
   "metadata": {},
   "outputs": [
    {
     "name": "stdout",
     "output_type": "stream",
     "text": [
      "+---+--------------------------------------------------+\n",
      "|id |basket                                            |\n",
      "+---+--------------------------------------------------+\n",
      "|0  |[whole milk, pastry, salty snack]                 |\n",
      "|1  |[sausage, whole milk, semi-finished bread, yogurt]|\n",
      "|2  |[soda, pickled vegetables]                        |\n",
      "|3  |[canned beer, misc. beverages]                    |\n",
      "|4  |[sausage, hygiene articles]                       |\n",
      "+---+--------------------------------------------------+\n",
      "only showing top 5 rows\n",
      "\n"
     ]
    }
   ],
   "source": [
    "# Remove nulls\n",
    "df_basket = df_basket.select('id', f.array_except('basket', f.array(f.lit(None))).alias('basket'))\n",
    "df_basket.show(5, truncate=False)"
   ]
  },
  {
   "cell_type": "code",
   "execution_count": 15,
   "metadata": {},
   "outputs": [],
   "source": [
    "from pyspark.ml.fpm import FPGrowth"
   ]
  },
  {
   "cell_type": "code",
   "execution_count": 16,
   "metadata": {},
   "outputs": [
    {
     "name": "stdout",
     "output_type": "stream",
     "text": [
      "+------------------------+----+\n",
      "|items                   |freq|\n",
      "+------------------------+----+\n",
      "|[cocoa drinks]          |16  |\n",
      "|[canned fruit]          |21  |\n",
      "|[specialty cheese]      |72  |\n",
      "|[chocolate marshmallow] |60  |\n",
      "|[pet care]              |85  |\n",
      "|[house keeping products]|45  |\n",
      "|[jam]                   |34  |\n",
      "|[light bulbs]           |29  |\n",
      "|[beef]                  |508 |\n",
      "|[beef, frankfurter]     |15  |\n",
      "+------------------------+----+\n",
      "only showing top 10 rows\n",
      "\n"
     ]
    }
   ],
   "source": [
    "fp = FPGrowth(minSupport=0.001, minConfidence=0.001, itemsCol='basket', predictionCol='prediction')\n",
    "model = fp.fit(df_basket)\n",
    "model.freqItemsets.show(10, truncate=False)"
   ]
  },
  {
   "cell_type": "code",
   "execution_count": 17,
   "metadata": {},
   "outputs": [
    {
     "name": "stdout",
     "output_type": "stream",
     "text": [
      "+---------------------+------------+-------------------+------------------+---------------------+\n",
      "|antecedent           |consequent  |confidence         |lift              |support              |\n",
      "+---------------------+------------+-------------------+------------------+---------------------+\n",
      "|[bottled beer]       |[whole milk]|0.15781710914454278|0.9993302598941151|0.007150972398583172 |\n",
      "|[detergent]          |[whole milk]|0.16279069767441862|1.030824041177455 |0.001403461872619127 |\n",
      "|[semi-finished bread]|[whole milk]|0.176056338028169  |1.1148247930239072|0.001670787943594199 |\n",
      "|[sausage, rolls/buns]|[whole milk]|0.2125             |1.345593525179856 |0.0011361358016440553|\n",
      "|[sausage, soda]      |[whole milk]|0.1797752808988764 |1.1383739010113787|0.0010693042839002875|\n",
      "|[ham]                |[whole milk]|0.16015625         |1.0141421789039358|0.0027400922274944863|\n",
      "|[frozen fish]        |[whole milk]|0.1568627450980392 |0.9932870312746344|0.0010693042839002875|\n",
      "|[sausage, whole milk]|[yogurt]    |0.16417910447761194|1.9117602648237413|0.0014702933903628951|\n",
      "|[sausage, yogurt]    |[whole milk]|0.2558139534883721 |1.6198663504217148|0.0014702933903628951|\n",
      "|[yogurt, rolls/buns] |[whole milk]|0.17094017094017094|1.0824281751069733|0.0013366303548753592|\n",
      "+---------------------+------------+-------------------+------------------+---------------------+\n",
      "\n"
     ]
    }
   ],
   "source": [
    "# When we compare the row from this table where the\n",
    "# antecedent is `[sausage, whole milk]` and the consequent\n",
    "# is [yogurt] to the same row from the first notebook that\n",
    "# uses the Apriori algorithm, we find the exact same values\n",
    "# for confidence, lift and support.\n",
    "# It seems that the algorithms converge for this dataset!\n",
    "model.associationRules.filter(model.associationRules.confidence>0.15).show(20, truncate=False)"
   ]
  },
  {
   "cell_type": "code",
   "execution_count": 19,
   "metadata": {},
   "outputs": [],
   "source": [
    "from pyspark.sql import Row"
   ]
  },
  {
   "cell_type": "code",
   "execution_count": 27,
   "metadata": {},
   "outputs": [
    {
     "name": "stdout",
     "output_type": "stream",
     "text": [
      "+-----------------------------+\n",
      "|basket                       |\n",
      "+-----------------------------+\n",
      "|[ham, yogurt, light bulbs]   |\n",
      "|[jam, cocoa drinks, pet care]|\n",
      "+-----------------------------+\n",
      "\n"
     ]
    }
   ],
   "source": [
    "columns = ['basket']\n",
    "row1 = Row(['ham', 'yogurt', 'light bulbs'])\n",
    "row2 = Row(['jam', 'cocoa drinks', 'pet care'])\n",
    "data = [row1, row2]\n",
    "new_df = spark.createDataFrame(data, schema=columns)\n",
    "new_df.show(truncate=False)"
   ]
  },
  {
   "cell_type": "code",
   "execution_count": 28,
   "metadata": {},
   "outputs": [
    {
     "name": "stdout",
     "output_type": "stream",
     "text": [
      "+-----------------------------+-------------------------------------------------------------------------------------------------------------------------------------------------------------------------------------------------------------------------------------------------------------------------------------------------------------------------------------------------------------------------------------------------------------------------------------------------------------------------------------------------------------------------------------------------------------------------------------------------------------------------------------------------+\n",
      "|basket                       |prediction                                                                                                                                                                                                                                                                                                                                                                                                                                                                                                                                                                                                                                       |\n",
      "+-----------------------------+-------------------------------------------------------------------------------------------------------------------------------------------------------------------------------------------------------------------------------------------------------------------------------------------------------------------------------------------------------------------------------------------------------------------------------------------------------------------------------------------------------------------------------------------------------------------------------------------------------------------------------------------------+\n",
      "|[ham, yogurt, light bulbs]   |[beef, oil, detergent, chocolate, candy, berries, frankfurter, sausage, coffee, pip fruit, white bread, salty snack, domestic eggs, root vegetables, bottled beer, specialty bar, long life bakery product, rolls/buns, other vegetables, soda, whole milk, canned beer, fruit/vegetable juice, dessert, newspapers, bottled water, margarine, hamburger meat, pastry, onions, pork, chicken, herbs, soft cheese, frozen meals, frozen vegetables, UHT-milk, brown bread, citrus fruit, butter, misc. beverages, chewing gum, shopping bags, cream cheese , waffles, whipped/sour cream, butter milk, hard cheese, napkins, curd, tropical fruit]|\n",
      "|[jam, cocoa drinks, pet care]|[]                                                                                                                                                                                                                                                                                                                                                                                                                                                                                                                                                                                                                                               |\n",
      "+-----------------------------+-------------------------------------------------------------------------------------------------------------------------------------------------------------------------------------------------------------------------------------------------------------------------------------------------------------------------------------------------------------------------------------------------------------------------------------------------------------------------------------------------------------------------------------------------------------------------------------------------------------------------------------------------+\n",
      "\n"
     ]
    }
   ],
   "source": [
    "model.transform(new_df).show(5, truncate=False)"
   ]
  },
  {
   "cell_type": "code",
   "execution_count": null,
   "metadata": {},
   "outputs": [],
   "source": []
  }
 ],
 "metadata": {
  "kernelspec": {
   "display_name": "venv",
   "language": "python",
   "name": "python3"
  },
  "language_info": {
   "codemirror_mode": {
    "name": "ipython",
    "version": 3
   },
   "file_extension": ".py",
   "mimetype": "text/x-python",
   "name": "python",
   "nbconvert_exporter": "python",
   "pygments_lexer": "ipython3",
   "version": "3.10.4"
  }
 },
 "nbformat": 4,
 "nbformat_minor": 2
}
