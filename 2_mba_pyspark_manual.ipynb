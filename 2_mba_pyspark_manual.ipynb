{
 "cells": [
  {
   "cell_type": "markdown",
   "metadata": {},
   "source": [
    "# Article code"
   ]
  },
  {
   "cell_type": "code",
   "execution_count": 1,
   "metadata": {},
   "outputs": [],
   "source": [
    "from pyspark import SparkContext"
   ]
  },
  {
   "cell_type": "code",
   "execution_count": null,
   "metadata": {},
   "outputs": [],
   "source": [
    "spark = SparkContext(\"local\", \"Apriori\")"
   ]
  },
  {
   "cell_type": "code",
   "execution_count": 3,
   "metadata": {},
   "outputs": [
    {
     "name": "stdout",
     "output_type": "stream",
     "text": [
      "['Apple,Mango,Banana', 'Banana,Mango', 'Apple,Banana', 'Apple,Mango,Coconut', 'Strawberry,Grapes,Lemon,Raspberry', 'Raspberry,Grapes', 'Strawberry,Apple', 'Apple,Mango,Raspberry', 'Mango,Raspberry', 'Mango,Apple', 'Apple,Raspberry', 'Banana,Raspberry,Mango', 'Apple,Mango,Banana', 'Raspberry,Banana', 'Apple,Strawberry', 'Strawberry,Banana,Apple,Mango', 'Mango,Banana,Raspberry,Apple', 'Coconut,Apple,Raspberry', 'Raspberry,Coconut,Banana']\n"
     ]
    }
   ],
   "source": [
    "# Here we are parsing each line as a value in RDD (Resilient Distributed Dataset).\n",
    "file = spark.textFile(\"data/fruits.txt\")\n",
    "\n",
    "print(file.collect())"
   ]
  },
  {
   "cell_type": "code",
   "execution_count": 18,
   "metadata": {},
   "outputs": [
    {
     "name": "stdout",
     "output_type": "stream",
     "text": [
      "[['Apple', 'Mango', 'Banana'], ['Banana', 'Mango'], ['Apple', 'Banana'], ['Apple', 'Mango', 'Coconut'], ['Strawberry', 'Grapes', 'Lemon', 'Raspberry'], ['Raspberry', 'Grapes'], ['Strawberry', 'Apple'], ['Apple', 'Mango', 'Raspberry'], ['Mango', 'Raspberry'], ['Mango', 'Apple']]\n"
     ]
    }
   ],
   "source": [
    "# Now we split each RDD value, turning them into arrays. \n",
    "lbitems = file.map(lambda line: line.split(','))\n",
    "\n",
    "print(lbitems.collect()[:10])"
   ]
  },
  {
   "cell_type": "code",
   "execution_count": 7,
   "metadata": {},
   "outputs": [
    {
     "name": "stdout",
     "output_type": "stream",
     "text": [
      "['Apple', 'Mango', 'Banana', 'Banana', 'Mango', 'Apple', 'Banana', 'Apple', 'Mango', 'Coconut', 'Strawberry', 'Grapes', 'Lemon', 'Raspberry', 'Raspberry', 'Grapes', 'Strawberry', 'Apple', 'Apple', 'Mango', 'Raspberry', 'Mango', 'Raspberry', 'Mango', 'Apple', 'Apple', 'Raspberry', 'Banana', 'Raspberry', 'Mango', 'Apple', 'Mango', 'Banana', 'Raspberry', 'Banana', 'Apple', 'Strawberry', 'Strawberry', 'Banana', 'Apple', 'Mango', 'Mango', 'Banana', 'Raspberry', 'Apple', 'Coconut', 'Apple', 'Raspberry', 'Raspberry', 'Coconut', 'Banana']\n"
     ]
    }
   ],
   "source": [
    "# Transform each element into an value of the RDD.\n",
    "wlitems = file.flatMap(lambda line: line.split(','))\n",
    "print(wlitems.collect())"
   ]
  },
  {
   "cell_type": "code",
   "execution_count": 8,
   "metadata": {},
   "outputs": [
    {
     "name": "stdout",
     "output_type": "stream",
     "text": [
      "[('Apple', 1), ('Mango', 1), ('Banana', 1), ('Banana', 1), ('Mango', 1), ('Apple', 1), ('Banana', 1), ('Apple', 1), ('Mango', 1), ('Coconut', 1), ('Strawberry', 1), ('Grapes', 1), ('Lemon', 1), ('Raspberry', 1), ('Raspberry', 1), ('Grapes', 1), ('Strawberry', 1), ('Apple', 1), ('Apple', 1), ('Mango', 1), ('Raspberry', 1), ('Mango', 1), ('Raspberry', 1), ('Mango', 1), ('Apple', 1), ('Apple', 1), ('Raspberry', 1), ('Banana', 1), ('Raspberry', 1), ('Mango', 1), ('Apple', 1), ('Mango', 1), ('Banana', 1), ('Raspberry', 1), ('Banana', 1), ('Apple', 1), ('Strawberry', 1), ('Strawberry', 1), ('Banana', 1), ('Apple', 1), ('Mango', 1), ('Mango', 1), ('Banana', 1), ('Raspberry', 1), ('Apple', 1), ('Coconut', 1), ('Apple', 1), ('Raspberry', 1), ('Raspberry', 1), ('Coconut', 1), ('Banana', 1)]\n"
     ]
    }
   ],
   "source": [
    "uniqueItems = wlitems.distinct()\n",
    "\n",
    "# Contains each value and 1 as tuple.\n",
    "# Ex: ('Apple', 1)\n",
    "supportRDD = wlitems.map(lambda item: (item, 1))\n",
    "\n",
    "print(supportRDD.collect())"
   ]
  },
  {
   "cell_type": "code",
   "execution_count": 9,
   "metadata": {},
   "outputs": [],
   "source": [
    "def sumOperator(x, y):\n",
    "    return x+y"
   ]
  },
  {
   "cell_type": "code",
   "execution_count": 10,
   "metadata": {},
   "outputs": [
    {
     "name": "stdout",
     "output_type": "stream",
     "text": [
      "[('Apple', 12), ('Mango', 10), ('Banana', 9), ('Coconut', 3), ('Strawberry', 4), ('Grapes', 2), ('Lemon', 1), ('Raspberry', 10)]\n"
     ]
    }
   ],
   "source": [
    "# Sum of values by key\n",
    "supportRDD = supportRDD.reduceByKey(sumOperator)\n",
    "\n",
    "print(supportRDD.collect())"
   ]
  },
  {
   "cell_type": "code",
   "execution_count": 11,
   "metadata": {},
   "outputs": [
    {
     "name": "stdout",
     "output_type": "stream",
     "text": [
      "[12, 10, 9, 3, 4, 2, 1, 10]\n"
     ]
    }
   ],
   "source": [
    "# Get an RDD with only the counts of each element\n",
    "supports = supportRDD.map(lambda item: item[1])\n",
    "\n",
    "print(supports.collect())"
   ]
  },
  {
   "cell_type": "code",
   "execution_count": 12,
   "metadata": {},
   "outputs": [
    {
     "data": {
      "text/plain": [
       "1"
      ]
     },
     "execution_count": 12,
     "metadata": {},
     "output_type": "execute_result"
    }
   ],
   "source": [
    "minSupportData = supports.min()\n",
    "minSupportData"
   ]
  },
  {
   "cell_type": "code",
   "execution_count": 13,
   "metadata": {},
   "outputs": [
    {
     "name": "stdout",
     "output_type": "stream",
     "text": [
      "[['Apple', 12], ['Mango', 10], ['Banana', 9], ['Coconut', 3], ['Strawberry', 4], ['Grapes', 2], ['Raspberry', 10]]\n"
     ]
    }
   ],
   "source": [
    "minSupport = 2\n",
    "supportRDD = supportRDD.filter(lambda item: item[1] >= minSupport)\n",
    "\n",
    "# Transforms each element of the RDD into a list instead of tuple\n",
    "baseRDD = supportRDD.map(lambda item: ([item[0], item[1]]))\n",
    "\n",
    "print(baseRDD.collect())"
   ]
  },
  {
   "cell_type": "code",
   "execution_count": 14,
   "metadata": {},
   "outputs": [
    {
     "name": "stdout",
     "output_type": "stream",
     "text": [
      "['Apple', 'Mango', 'Banana', 'Coconut', 'Strawberry', 'Grapes', 'Raspberry']\n"
     ]
    }
   ],
   "source": [
    "# Make an RDD with only the unique item names\n",
    "supportRDDCart = supportRDD.map(lambda item: item[0])\n",
    "\n",
    "print(supportRDDCart.collect())"
   ]
  },
  {
   "cell_type": "code",
   "execution_count": 15,
   "metadata": {},
   "outputs": [],
   "source": [
    "def removeReplica(record):\n",
    "    if(isinstance(record[0], tuple)):\n",
    "        x1 = record[0]\n",
    "        x2 = record[1]\n",
    "    else:\n",
    "        x1 = [record[0]]\n",
    "        x2 = record[1]\n",
    "    \n",
    "    if(not any(x ==x2 for x in x1)):\n",
    "        a = list(x1)\n",
    "        a.append(x2)\n",
    "        a.sort()\n",
    "        result = tuple(a)\n",
    "    \n",
    "        return result\n",
    "\n",
    "    return x1"
   ]
  },
  {
   "cell_type": "code",
   "execution_count": 19,
   "metadata": {},
   "outputs": [
    {
     "name": "stdout",
     "output_type": "stream",
     "text": [
      "[['Apple', 12], ['Mango', 10], ['Banana', 9], ['Coconut', 3], ['Strawberry', 4], ['Grapes', 2], ['Raspberry', 10], (('Apple', 'Mango'), 7), (('Apple', 'Banana'), 5), (('Apple', 'Coconut'), 2)]\n"
     ]
    }
   ],
   "source": [
    "c = 2 # Combination length\n",
    "\n",
    "while(supportRDDCart.isEmpty() == False):\n",
    "    # Makes all the combinations of items.\n",
    "    # Ex: [('Apple', 'Apple'), ('Apple', 'Mango')..]\n",
    "    combined = supportRDDCart.cartesian(uniqueItems)\n",
    "    \n",
    "    # Turn elements with repeated items such as ('Apple', 'Apple') into ['Apple']\n",
    "    combined = combined.map(lambda item: removeReplica(item))\n",
    "\n",
    "    # Make combinations of 3 items\n",
    "    combined = combined.filter(lambda item: len(item) == c)\n",
    "    combined = combined.distinct()\n",
    "    combined2 = combined.cartesian(lbitems)\n",
    "\n",
    "    combined2 = combined2.filter(lambda item: all(x in item[1] for x in item[0]))\n",
    "    combined2 = combined2.map(lambda item: item[0])\n",
    "    combined2 = combined2.map(lambda item: (item, 1))\n",
    "\n",
    "    # Count combinations\n",
    "    combined2 = combined2.reduceByKey(sumOperator)\n",
    "\n",
    "    combined2 = combined2.filter(lambda item: item[1] >= minSupport)\n",
    "    baseRDD = baseRDD.union(combined2)\n",
    "    combined2 = combined2.map(lambda item: item[0])\n",
    "    supportRDDCart = combined2\n",
    "    \n",
    "    print(c, '. Table was created...') \n",
    "    \n",
    "    c = c + 1\n",
    "\n",
    "print(baseRDD.collect()[:10])"
   ]
  },
  {
   "cell_type": "code",
   "execution_count": 15,
   "metadata": {},
   "outputs": [
    {
     "name": "stderr",
     "output_type": "stream",
     "text": [
      "                                                                                \r"
     ]
    },
    {
     "name": "stdout",
     "output_type": "stream",
     "text": [
      "[(['Apple', 12], ['Apple', 12]), (['Apple', 12], ['Mango', 10]), (['Apple', 12], ['Banana', 9]), (['Apple', 12], ['Coconut', 3]), (['Apple', 12], ['Strawberry', 4]), (['Apple', 12], ['Grapes', 2]), (['Apple', 12], ['Raspberry', 10]), (['Mango', 10], ['Apple', 12]), (['Banana', 9], ['Apple', 12]), (['Mango', 10], ['Mango', 10]), (['Mango', 10], ['Banana', 9]), (['Banana', 9], ['Mango', 10]), (['Banana', 9], ['Banana', 9]), (['Mango', 10], ['Coconut', 3]), (['Mango', 10], ['Strawberry', 4]), (['Mango', 10], ['Grapes', 2]), (['Mango', 10], ['Raspberry', 10]), (['Banana', 9], ['Coconut', 3]), (['Banana', 9], ['Strawberry', 4]), (['Banana', 9], ['Grapes', 2]), (['Banana', 9], ['Raspberry', 10]), (['Coconut', 3], ['Apple', 12]), (['Strawberry', 4], ['Apple', 12]), (['Grapes', 2], ['Apple', 12]), (['Raspberry', 10], ['Apple', 12]), (['Coconut', 3], ['Mango', 10]), (['Coconut', 3], ['Banana', 9]), (['Strawberry', 4], ['Mango', 10]), (['Strawberry', 4], ['Banana', 9]), (['Grapes', 2], ['Mango', 10]), (['Grapes', 2], ['Banana', 9]), (['Raspberry', 10], ['Mango', 10]), (['Raspberry', 10], ['Banana', 9]), (['Coconut', 3], ['Coconut', 3]), (['Coconut', 3], ['Strawberry', 4]), (['Coconut', 3], ['Grapes', 2]), (['Coconut', 3], ['Raspberry', 10]), (['Strawberry', 4], ['Coconut', 3]), (['Strawberry', 4], ['Strawberry', 4]), (['Strawberry', 4], ['Grapes', 2]), (['Strawberry', 4], ['Raspberry', 10]), (['Grapes', 2], ['Coconut', 3]), (['Grapes', 2], ['Strawberry', 4]), (['Grapes', 2], ['Grapes', 2]), (['Grapes', 2], ['Raspberry', 10]), (['Raspberry', 10], ['Coconut', 3]), (['Raspberry', 10], ['Strawberry', 4]), (['Raspberry', 10], ['Grapes', 2]), (['Raspberry', 10], ['Raspberry', 10]), (['Apple', 12], (('Apple', 'Mango'), 7)), (['Apple', 12], (('Apple', 'Banana'), 5)), (['Apple', 12], (('Apple', 'Coconut'), 2)), (['Apple', 12], (('Apple', 'Strawberry'), 3)), (['Apple', 12], (('Apple', 'Raspberry'), 4)), (['Apple', 12], (('Banana', 'Mango'), 6)), (['Apple', 12], (('Grapes', 'Raspberry'), 2)), (['Apple', 12], (('Mango', 'Raspberry'), 4)), (['Apple', 12], (('Banana', 'Raspberry'), 4)), (['Apple', 12], (('Coconut', 'Raspberry'), 2)), (['Mango', 10], (('Apple', 'Mango'), 7)), (['Banana', 9], (('Apple', 'Mango'), 7)), (['Mango', 10], (('Apple', 'Banana'), 5)), (['Mango', 10], (('Apple', 'Coconut'), 2)), (['Banana', 9], (('Apple', 'Banana'), 5)), (['Banana', 9], (('Apple', 'Coconut'), 2)), (['Mango', 10], (('Apple', 'Strawberry'), 3)), (['Mango', 10], (('Apple', 'Raspberry'), 4)), (['Mango', 10], (('Banana', 'Mango'), 6)), (['Mango', 10], (('Grapes', 'Raspberry'), 2)), (['Banana', 9], (('Apple', 'Strawberry'), 3)), (['Banana', 9], (('Apple', 'Raspberry'), 4)), (['Banana', 9], (('Banana', 'Mango'), 6)), (['Banana', 9], (('Grapes', 'Raspberry'), 2)), (['Mango', 10], (('Mango', 'Raspberry'), 4)), (['Mango', 10], (('Banana', 'Raspberry'), 4)), (['Mango', 10], (('Coconut', 'Raspberry'), 2)), (['Banana', 9], (('Mango', 'Raspberry'), 4)), (['Banana', 9], (('Banana', 'Raspberry'), 4)), (['Banana', 9], (('Coconut', 'Raspberry'), 2)), (['Coconut', 3], (('Apple', 'Mango'), 7)), (['Strawberry', 4], (('Apple', 'Mango'), 7)), (['Grapes', 2], (('Apple', 'Mango'), 7)), (['Raspberry', 10], (('Apple', 'Mango'), 7)), (['Coconut', 3], (('Apple', 'Banana'), 5)), (['Coconut', 3], (('Apple', 'Coconut'), 2)), (['Strawberry', 4], (('Apple', 'Banana'), 5)), (['Strawberry', 4], (('Apple', 'Coconut'), 2)), (['Grapes', 2], (('Apple', 'Banana'), 5)), (['Grapes', 2], (('Apple', 'Coconut'), 2)), (['Raspberry', 10], (('Apple', 'Banana'), 5)), (['Raspberry', 10], (('Apple', 'Coconut'), 2)), (['Coconut', 3], (('Apple', 'Strawberry'), 3)), (['Coconut', 3], (('Apple', 'Raspberry'), 4)), (['Coconut', 3], (('Banana', 'Mango'), 6)), (['Coconut', 3], (('Grapes', 'Raspberry'), 2)), (['Strawberry', 4], (('Apple', 'Strawberry'), 3)), (['Strawberry', 4], (('Apple', 'Raspberry'), 4)), (['Strawberry', 4], (('Banana', 'Mango'), 6)), (['Strawberry', 4], (('Grapes', 'Raspberry'), 2)), (['Grapes', 2], (('Apple', 'Strawberry'), 3)), (['Grapes', 2], (('Apple', 'Raspberry'), 4)), (['Grapes', 2], (('Banana', 'Mango'), 6)), (['Grapes', 2], (('Grapes', 'Raspberry'), 2)), (['Raspberry', 10], (('Apple', 'Strawberry'), 3)), (['Raspberry', 10], (('Apple', 'Raspberry'), 4)), (['Raspberry', 10], (('Banana', 'Mango'), 6)), (['Raspberry', 10], (('Grapes', 'Raspberry'), 2)), (['Coconut', 3], (('Mango', 'Raspberry'), 4)), (['Coconut', 3], (('Banana', 'Raspberry'), 4)), (['Coconut', 3], (('Coconut', 'Raspberry'), 2)), (['Strawberry', 4], (('Mango', 'Raspberry'), 4)), (['Strawberry', 4], (('Banana', 'Raspberry'), 4)), (['Strawberry', 4], (('Coconut', 'Raspberry'), 2)), (['Grapes', 2], (('Mango', 'Raspberry'), 4)), (['Grapes', 2], (('Banana', 'Raspberry'), 4)), (['Grapes', 2], (('Coconut', 'Raspberry'), 2)), (['Raspberry', 10], (('Mango', 'Raspberry'), 4)), (['Raspberry', 10], (('Banana', 'Raspberry'), 4)), (['Raspberry', 10], (('Coconut', 'Raspberry'), 2)), (['Apple', 12], (('Apple', 'Banana', 'Mango'), 4)), (['Apple', 12], (('Apple', 'Mango', 'Raspberry'), 2)), (['Apple', 12], (('Banana', 'Mango', 'Raspberry'), 2)), (['Mango', 10], (('Apple', 'Banana', 'Mango'), 4)), (['Banana', 9], (('Apple', 'Banana', 'Mango'), 4)), (['Mango', 10], (('Apple', 'Mango', 'Raspberry'), 2)), (['Mango', 10], (('Banana', 'Mango', 'Raspberry'), 2)), (['Banana', 9], (('Apple', 'Mango', 'Raspberry'), 2)), (['Banana', 9], (('Banana', 'Mango', 'Raspberry'), 2)), (['Coconut', 3], (('Apple', 'Banana', 'Mango'), 4)), (['Strawberry', 4], (('Apple', 'Banana', 'Mango'), 4)), (['Grapes', 2], (('Apple', 'Banana', 'Mango'), 4)), (['Raspberry', 10], (('Apple', 'Banana', 'Mango'), 4)), (['Coconut', 3], (('Apple', 'Mango', 'Raspberry'), 2)), (['Coconut', 3], (('Banana', 'Mango', 'Raspberry'), 2)), (['Strawberry', 4], (('Apple', 'Mango', 'Raspberry'), 2)), (['Strawberry', 4], (('Banana', 'Mango', 'Raspberry'), 2)), (['Grapes', 2], (('Apple', 'Mango', 'Raspberry'), 2)), (['Grapes', 2], (('Banana', 'Mango', 'Raspberry'), 2)), (['Raspberry', 10], (('Apple', 'Mango', 'Raspberry'), 2)), (['Raspberry', 10], (('Banana', 'Mango', 'Raspberry'), 2)), ((('Apple', 'Mango'), 7), ['Apple', 12]), ((('Apple', 'Mango'), 7), ['Mango', 10]), ((('Apple', 'Mango'), 7), ['Banana', 9]), ((('Apple', 'Mango'), 7), ['Coconut', 3]), ((('Apple', 'Mango'), 7), ['Strawberry', 4]), ((('Apple', 'Mango'), 7), ['Grapes', 2]), ((('Apple', 'Mango'), 7), ['Raspberry', 10]), ((('Apple', 'Banana'), 5), ['Apple', 12]), ((('Apple', 'Coconut'), 2), ['Apple', 12]), ((('Apple', 'Banana'), 5), ['Mango', 10]), ((('Apple', 'Banana'), 5), ['Banana', 9]), ((('Apple', 'Coconut'), 2), ['Mango', 10]), ((('Apple', 'Coconut'), 2), ['Banana', 9]), ((('Apple', 'Banana'), 5), ['Coconut', 3]), ((('Apple', 'Banana'), 5), ['Strawberry', 4]), ((('Apple', 'Banana'), 5), ['Grapes', 2]), ((('Apple', 'Banana'), 5), ['Raspberry', 10]), ((('Apple', 'Coconut'), 2), ['Coconut', 3]), ((('Apple', 'Coconut'), 2), ['Strawberry', 4]), ((('Apple', 'Coconut'), 2), ['Grapes', 2]), ((('Apple', 'Coconut'), 2), ['Raspberry', 10]), ((('Apple', 'Strawberry'), 3), ['Apple', 12]), ((('Apple', 'Raspberry'), 4), ['Apple', 12]), ((('Banana', 'Mango'), 6), ['Apple', 12]), ((('Grapes', 'Raspberry'), 2), ['Apple', 12]), ((('Apple', 'Strawberry'), 3), ['Mango', 10]), ((('Apple', 'Strawberry'), 3), ['Banana', 9]), ((('Apple', 'Raspberry'), 4), ['Mango', 10]), ((('Apple', 'Raspberry'), 4), ['Banana', 9]), ((('Banana', 'Mango'), 6), ['Mango', 10]), ((('Banana', 'Mango'), 6), ['Banana', 9]), ((('Grapes', 'Raspberry'), 2), ['Mango', 10]), ((('Grapes', 'Raspberry'), 2), ['Banana', 9]), ((('Apple', 'Strawberry'), 3), ['Coconut', 3]), ((('Apple', 'Strawberry'), 3), ['Strawberry', 4]), ((('Apple', 'Strawberry'), 3), ['Grapes', 2]), ((('Apple', 'Strawberry'), 3), ['Raspberry', 10]), ((('Apple', 'Raspberry'), 4), ['Coconut', 3]), ((('Apple', 'Raspberry'), 4), ['Strawberry', 4]), ((('Apple', 'Raspberry'), 4), ['Grapes', 2]), ((('Apple', 'Raspberry'), 4), ['Raspberry', 10]), ((('Banana', 'Mango'), 6), ['Coconut', 3]), ((('Banana', 'Mango'), 6), ['Strawberry', 4]), ((('Banana', 'Mango'), 6), ['Grapes', 2]), ((('Banana', 'Mango'), 6), ['Raspberry', 10]), ((('Grapes', 'Raspberry'), 2), ['Coconut', 3]), ((('Grapes', 'Raspberry'), 2), ['Strawberry', 4]), ((('Grapes', 'Raspberry'), 2), ['Grapes', 2]), ((('Grapes', 'Raspberry'), 2), ['Raspberry', 10]), ((('Mango', 'Raspberry'), 4), ['Apple', 12]), ((('Banana', 'Raspberry'), 4), ['Apple', 12]), ((('Coconut', 'Raspberry'), 2), ['Apple', 12]), ((('Mango', 'Raspberry'), 4), ['Mango', 10]), ((('Mango', 'Raspberry'), 4), ['Banana', 9]), ((('Banana', 'Raspberry'), 4), ['Mango', 10]), ((('Banana', 'Raspberry'), 4), ['Banana', 9]), ((('Coconut', 'Raspberry'), 2), ['Mango', 10]), ((('Coconut', 'Raspberry'), 2), ['Banana', 9]), ((('Mango', 'Raspberry'), 4), ['Coconut', 3]), ((('Mango', 'Raspberry'), 4), ['Strawberry', 4]), ((('Mango', 'Raspberry'), 4), ['Grapes', 2]), ((('Mango', 'Raspberry'), 4), ['Raspberry', 10]), ((('Banana', 'Raspberry'), 4), ['Coconut', 3]), ((('Banana', 'Raspberry'), 4), ['Strawberry', 4]), ((('Banana', 'Raspberry'), 4), ['Grapes', 2]), ((('Banana', 'Raspberry'), 4), ['Raspberry', 10]), ((('Coconut', 'Raspberry'), 2), ['Coconut', 3]), ((('Coconut', 'Raspberry'), 2), ['Strawberry', 4]), ((('Coconut', 'Raspberry'), 2), ['Grapes', 2]), ((('Coconut', 'Raspberry'), 2), ['Raspberry', 10]), ((('Apple', 'Mango'), 7), (('Apple', 'Mango'), 7)), ((('Apple', 'Mango'), 7), (('Apple', 'Banana'), 5)), ((('Apple', 'Mango'), 7), (('Apple', 'Coconut'), 2)), ((('Apple', 'Mango'), 7), (('Apple', 'Strawberry'), 3)), ((('Apple', 'Mango'), 7), (('Apple', 'Raspberry'), 4)), ((('Apple', 'Mango'), 7), (('Banana', 'Mango'), 6)), ((('Apple', 'Mango'), 7), (('Grapes', 'Raspberry'), 2)), ((('Apple', 'Mango'), 7), (('Mango', 'Raspberry'), 4)), ((('Apple', 'Mango'), 7), (('Banana', 'Raspberry'), 4)), ((('Apple', 'Mango'), 7), (('Coconut', 'Raspberry'), 2)), ((('Apple', 'Banana'), 5), (('Apple', 'Mango'), 7)), ((('Apple', 'Coconut'), 2), (('Apple', 'Mango'), 7)), ((('Apple', 'Banana'), 5), (('Apple', 'Banana'), 5)), ((('Apple', 'Banana'), 5), (('Apple', 'Coconut'), 2)), ((('Apple', 'Coconut'), 2), (('Apple', 'Banana'), 5)), ((('Apple', 'Coconut'), 2), (('Apple', 'Coconut'), 2)), ((('Apple', 'Banana'), 5), (('Apple', 'Strawberry'), 3)), ((('Apple', 'Banana'), 5), (('Apple', 'Raspberry'), 4)), ((('Apple', 'Banana'), 5), (('Banana', 'Mango'), 6)), ((('Apple', 'Banana'), 5), (('Grapes', 'Raspberry'), 2)), ((('Apple', 'Coconut'), 2), (('Apple', 'Strawberry'), 3)), ((('Apple', 'Coconut'), 2), (('Apple', 'Raspberry'), 4)), ((('Apple', 'Coconut'), 2), (('Banana', 'Mango'), 6)), ((('Apple', 'Coconut'), 2), (('Grapes', 'Raspberry'), 2)), ((('Apple', 'Banana'), 5), (('Mango', 'Raspberry'), 4)), ((('Apple', 'Banana'), 5), (('Banana', 'Raspberry'), 4)), ((('Apple', 'Banana'), 5), (('Coconut', 'Raspberry'), 2)), ((('Apple', 'Coconut'), 2), (('Mango', 'Raspberry'), 4)), ((('Apple', 'Coconut'), 2), (('Banana', 'Raspberry'), 4)), ((('Apple', 'Coconut'), 2), (('Coconut', 'Raspberry'), 2)), ((('Apple', 'Strawberry'), 3), (('Apple', 'Mango'), 7)), ((('Apple', 'Raspberry'), 4), (('Apple', 'Mango'), 7)), ((('Banana', 'Mango'), 6), (('Apple', 'Mango'), 7)), ((('Grapes', 'Raspberry'), 2), (('Apple', 'Mango'), 7)), ((('Apple', 'Strawberry'), 3), (('Apple', 'Banana'), 5)), ((('Apple', 'Strawberry'), 3), (('Apple', 'Coconut'), 2)), ((('Apple', 'Raspberry'), 4), (('Apple', 'Banana'), 5)), ((('Apple', 'Raspberry'), 4), (('Apple', 'Coconut'), 2)), ((('Banana', 'Mango'), 6), (('Apple', 'Banana'), 5)), ((('Banana', 'Mango'), 6), (('Apple', 'Coconut'), 2)), ((('Grapes', 'Raspberry'), 2), (('Apple', 'Banana'), 5)), ((('Grapes', 'Raspberry'), 2), (('Apple', 'Coconut'), 2)), ((('Apple', 'Strawberry'), 3), (('Apple', 'Strawberry'), 3)), ((('Apple', 'Strawberry'), 3), (('Apple', 'Raspberry'), 4)), ((('Apple', 'Strawberry'), 3), (('Banana', 'Mango'), 6)), ((('Apple', 'Strawberry'), 3), (('Grapes', 'Raspberry'), 2)), ((('Apple', 'Raspberry'), 4), (('Apple', 'Strawberry'), 3)), ((('Apple', 'Raspberry'), 4), (('Apple', 'Raspberry'), 4)), ((('Apple', 'Raspberry'), 4), (('Banana', 'Mango'), 6)), ((('Apple', 'Raspberry'), 4), (('Grapes', 'Raspberry'), 2)), ((('Banana', 'Mango'), 6), (('Apple', 'Strawberry'), 3)), ((('Banana', 'Mango'), 6), (('Apple', 'Raspberry'), 4)), ((('Banana', 'Mango'), 6), (('Banana', 'Mango'), 6)), ((('Banana', 'Mango'), 6), (('Grapes', 'Raspberry'), 2)), ((('Grapes', 'Raspberry'), 2), (('Apple', 'Strawberry'), 3)), ((('Grapes', 'Raspberry'), 2), (('Apple', 'Raspberry'), 4)), ((('Grapes', 'Raspberry'), 2), (('Banana', 'Mango'), 6)), ((('Grapes', 'Raspberry'), 2), (('Grapes', 'Raspberry'), 2)), ((('Apple', 'Strawberry'), 3), (('Mango', 'Raspberry'), 4)), ((('Apple', 'Strawberry'), 3), (('Banana', 'Raspberry'), 4)), ((('Apple', 'Strawberry'), 3), (('Coconut', 'Raspberry'), 2)), ((('Apple', 'Raspberry'), 4), (('Mango', 'Raspberry'), 4)), ((('Apple', 'Raspberry'), 4), (('Banana', 'Raspberry'), 4)), ((('Apple', 'Raspberry'), 4), (('Coconut', 'Raspberry'), 2)), ((('Banana', 'Mango'), 6), (('Mango', 'Raspberry'), 4)), ((('Banana', 'Mango'), 6), (('Banana', 'Raspberry'), 4)), ((('Banana', 'Mango'), 6), (('Coconut', 'Raspberry'), 2)), ((('Grapes', 'Raspberry'), 2), (('Mango', 'Raspberry'), 4)), ((('Grapes', 'Raspberry'), 2), (('Banana', 'Raspberry'), 4)), ((('Grapes', 'Raspberry'), 2), (('Coconut', 'Raspberry'), 2)), ((('Mango', 'Raspberry'), 4), (('Apple', 'Mango'), 7)), ((('Banana', 'Raspberry'), 4), (('Apple', 'Mango'), 7)), ((('Coconut', 'Raspberry'), 2), (('Apple', 'Mango'), 7)), ((('Mango', 'Raspberry'), 4), (('Apple', 'Banana'), 5)), ((('Mango', 'Raspberry'), 4), (('Apple', 'Coconut'), 2)), ((('Banana', 'Raspberry'), 4), (('Apple', 'Banana'), 5)), ((('Banana', 'Raspberry'), 4), (('Apple', 'Coconut'), 2)), ((('Coconut', 'Raspberry'), 2), (('Apple', 'Banana'), 5)), ((('Coconut', 'Raspberry'), 2), (('Apple', 'Coconut'), 2)), ((('Mango', 'Raspberry'), 4), (('Apple', 'Strawberry'), 3)), ((('Mango', 'Raspberry'), 4), (('Apple', 'Raspberry'), 4)), ((('Mango', 'Raspberry'), 4), (('Banana', 'Mango'), 6)), ((('Mango', 'Raspberry'), 4), (('Grapes', 'Raspberry'), 2)), ((('Banana', 'Raspberry'), 4), (('Apple', 'Strawberry'), 3)), ((('Banana', 'Raspberry'), 4), (('Apple', 'Raspberry'), 4)), ((('Banana', 'Raspberry'), 4), (('Banana', 'Mango'), 6)), ((('Banana', 'Raspberry'), 4), (('Grapes', 'Raspberry'), 2)), ((('Coconut', 'Raspberry'), 2), (('Apple', 'Strawberry'), 3)), ((('Coconut', 'Raspberry'), 2), (('Apple', 'Raspberry'), 4)), ((('Coconut', 'Raspberry'), 2), (('Banana', 'Mango'), 6)), ((('Coconut', 'Raspberry'), 2), (('Grapes', 'Raspberry'), 2)), ((('Mango', 'Raspberry'), 4), (('Mango', 'Raspberry'), 4)), ((('Mango', 'Raspberry'), 4), (('Banana', 'Raspberry'), 4)), ((('Mango', 'Raspberry'), 4), (('Coconut', 'Raspberry'), 2)), ((('Banana', 'Raspberry'), 4), (('Mango', 'Raspberry'), 4)), ((('Banana', 'Raspberry'), 4), (('Banana', 'Raspberry'), 4)), ((('Banana', 'Raspberry'), 4), (('Coconut', 'Raspberry'), 2)), ((('Coconut', 'Raspberry'), 2), (('Mango', 'Raspberry'), 4)), ((('Coconut', 'Raspberry'), 2), (('Banana', 'Raspberry'), 4)), ((('Coconut', 'Raspberry'), 2), (('Coconut', 'Raspberry'), 2)), ((('Apple', 'Mango'), 7), (('Apple', 'Banana', 'Mango'), 4)), ((('Apple', 'Mango'), 7), (('Apple', 'Mango', 'Raspberry'), 2)), ((('Apple', 'Mango'), 7), (('Banana', 'Mango', 'Raspberry'), 2)), ((('Apple', 'Banana'), 5), (('Apple', 'Banana', 'Mango'), 4)), ((('Apple', 'Coconut'), 2), (('Apple', 'Banana', 'Mango'), 4)), ((('Apple', 'Banana'), 5), (('Apple', 'Mango', 'Raspberry'), 2)), ((('Apple', 'Banana'), 5), (('Banana', 'Mango', 'Raspberry'), 2)), ((('Apple', 'Coconut'), 2), (('Apple', 'Mango', 'Raspberry'), 2)), ((('Apple', 'Coconut'), 2), (('Banana', 'Mango', 'Raspberry'), 2)), ((('Apple', 'Strawberry'), 3), (('Apple', 'Banana', 'Mango'), 4)), ((('Apple', 'Raspberry'), 4), (('Apple', 'Banana', 'Mango'), 4)), ((('Banana', 'Mango'), 6), (('Apple', 'Banana', 'Mango'), 4)), ((('Grapes', 'Raspberry'), 2), (('Apple', 'Banana', 'Mango'), 4)), ((('Apple', 'Strawberry'), 3), (('Apple', 'Mango', 'Raspberry'), 2)), ((('Apple', 'Strawberry'), 3), (('Banana', 'Mango', 'Raspberry'), 2)), ((('Apple', 'Raspberry'), 4), (('Apple', 'Mango', 'Raspberry'), 2)), ((('Apple', 'Raspberry'), 4), (('Banana', 'Mango', 'Raspberry'), 2)), ((('Banana', 'Mango'), 6), (('Apple', 'Mango', 'Raspberry'), 2)), ((('Banana', 'Mango'), 6), (('Banana', 'Mango', 'Raspberry'), 2)), ((('Grapes', 'Raspberry'), 2), (('Apple', 'Mango', 'Raspberry'), 2)), ((('Grapes', 'Raspberry'), 2), (('Banana', 'Mango', 'Raspberry'), 2)), ((('Mango', 'Raspberry'), 4), (('Apple', 'Banana', 'Mango'), 4)), ((('Banana', 'Raspberry'), 4), (('Apple', 'Banana', 'Mango'), 4)), ((('Coconut', 'Raspberry'), 2), (('Apple', 'Banana', 'Mango'), 4)), ((('Mango', 'Raspberry'), 4), (('Apple', 'Mango', 'Raspberry'), 2)), ((('Mango', 'Raspberry'), 4), (('Banana', 'Mango', 'Raspberry'), 2)), ((('Banana', 'Raspberry'), 4), (('Apple', 'Mango', 'Raspberry'), 2)), ((('Banana', 'Raspberry'), 4), (('Banana', 'Mango', 'Raspberry'), 2)), ((('Coconut', 'Raspberry'), 2), (('Apple', 'Mango', 'Raspberry'), 2)), ((('Coconut', 'Raspberry'), 2), (('Banana', 'Mango', 'Raspberry'), 2)), ((('Apple', 'Banana', 'Mango'), 4), ['Apple', 12]), ((('Apple', 'Banana', 'Mango'), 4), ['Mango', 10]), ((('Apple', 'Banana', 'Mango'), 4), ['Banana', 9]), ((('Apple', 'Banana', 'Mango'), 4), ['Coconut', 3]), ((('Apple', 'Banana', 'Mango'), 4), ['Strawberry', 4]), ((('Apple', 'Banana', 'Mango'), 4), ['Grapes', 2]), ((('Apple', 'Banana', 'Mango'), 4), ['Raspberry', 10]), ((('Apple', 'Mango', 'Raspberry'), 2), ['Apple', 12]), ((('Banana', 'Mango', 'Raspberry'), 2), ['Apple', 12]), ((('Apple', 'Mango', 'Raspberry'), 2), ['Mango', 10]), ((('Apple', 'Mango', 'Raspberry'), 2), ['Banana', 9]), ((('Banana', 'Mango', 'Raspberry'), 2), ['Mango', 10]), ((('Banana', 'Mango', 'Raspberry'), 2), ['Banana', 9]), ((('Apple', 'Mango', 'Raspberry'), 2), ['Coconut', 3]), ((('Apple', 'Mango', 'Raspberry'), 2), ['Strawberry', 4]), ((('Apple', 'Mango', 'Raspberry'), 2), ['Grapes', 2]), ((('Apple', 'Mango', 'Raspberry'), 2), ['Raspberry', 10]), ((('Banana', 'Mango', 'Raspberry'), 2), ['Coconut', 3]), ((('Banana', 'Mango', 'Raspberry'), 2), ['Strawberry', 4]), ((('Banana', 'Mango', 'Raspberry'), 2), ['Grapes', 2]), ((('Banana', 'Mango', 'Raspberry'), 2), ['Raspberry', 10]), ((('Apple', 'Banana', 'Mango'), 4), (('Apple', 'Mango'), 7)), ((('Apple', 'Banana', 'Mango'), 4), (('Apple', 'Banana'), 5)), ((('Apple', 'Banana', 'Mango'), 4), (('Apple', 'Coconut'), 2)), ((('Apple', 'Banana', 'Mango'), 4), (('Apple', 'Strawberry'), 3)), ((('Apple', 'Banana', 'Mango'), 4), (('Apple', 'Raspberry'), 4)), ((('Apple', 'Banana', 'Mango'), 4), (('Banana', 'Mango'), 6)), ((('Apple', 'Banana', 'Mango'), 4), (('Grapes', 'Raspberry'), 2)), ((('Apple', 'Banana', 'Mango'), 4), (('Mango', 'Raspberry'), 4)), ((('Apple', 'Banana', 'Mango'), 4), (('Banana', 'Raspberry'), 4)), ((('Apple', 'Banana', 'Mango'), 4), (('Coconut', 'Raspberry'), 2)), ((('Apple', 'Mango', 'Raspberry'), 2), (('Apple', 'Mango'), 7)), ((('Banana', 'Mango', 'Raspberry'), 2), (('Apple', 'Mango'), 7)), ((('Apple', 'Mango', 'Raspberry'), 2), (('Apple', 'Banana'), 5)), ((('Apple', 'Mango', 'Raspberry'), 2), (('Apple', 'Coconut'), 2)), ((('Banana', 'Mango', 'Raspberry'), 2), (('Apple', 'Banana'), 5)), ((('Banana', 'Mango', 'Raspberry'), 2), (('Apple', 'Coconut'), 2)), ((('Apple', 'Mango', 'Raspberry'), 2), (('Apple', 'Strawberry'), 3)), ((('Apple', 'Mango', 'Raspberry'), 2), (('Apple', 'Raspberry'), 4)), ((('Apple', 'Mango', 'Raspberry'), 2), (('Banana', 'Mango'), 6)), ((('Apple', 'Mango', 'Raspberry'), 2), (('Grapes', 'Raspberry'), 2)), ((('Banana', 'Mango', 'Raspberry'), 2), (('Apple', 'Strawberry'), 3)), ((('Banana', 'Mango', 'Raspberry'), 2), (('Apple', 'Raspberry'), 4)), ((('Banana', 'Mango', 'Raspberry'), 2), (('Banana', 'Mango'), 6)), ((('Banana', 'Mango', 'Raspberry'), 2), (('Grapes', 'Raspberry'), 2)), ((('Apple', 'Mango', 'Raspberry'), 2), (('Mango', 'Raspberry'), 4)), ((('Apple', 'Mango', 'Raspberry'), 2), (('Banana', 'Raspberry'), 4)), ((('Apple', 'Mango', 'Raspberry'), 2), (('Coconut', 'Raspberry'), 2)), ((('Banana', 'Mango', 'Raspberry'), 2), (('Mango', 'Raspberry'), 4)), ((('Banana', 'Mango', 'Raspberry'), 2), (('Banana', 'Raspberry'), 4)), ((('Banana', 'Mango', 'Raspberry'), 2), (('Coconut', 'Raspberry'), 2)), ((('Apple', 'Banana', 'Mango'), 4), (('Apple', 'Banana', 'Mango'), 4)), ((('Apple', 'Banana', 'Mango'), 4), (('Apple', 'Mango', 'Raspberry'), 2)), ((('Apple', 'Banana', 'Mango'), 4), (('Banana', 'Mango', 'Raspberry'), 2)), ((('Apple', 'Mango', 'Raspberry'), 2), (('Apple', 'Banana', 'Mango'), 4)), ((('Banana', 'Mango', 'Raspberry'), 2), (('Apple', 'Banana', 'Mango'), 4)), ((('Apple', 'Mango', 'Raspberry'), 2), (('Apple', 'Mango', 'Raspberry'), 2)), ((('Apple', 'Mango', 'Raspberry'), 2), (('Banana', 'Mango', 'Raspberry'), 2)), ((('Banana', 'Mango', 'Raspberry'), 2), (('Apple', 'Mango', 'Raspberry'), 2)), ((('Banana', 'Mango', 'Raspberry'), 2), (('Banana', 'Mango', 'Raspberry'), 2))]\n"
     ]
    }
   ],
   "source": [
    "class Filter():\n",
    "    def __init__(self) -> None:\n",
    "        self.stages = 1\n",
    "\n",
    "    def filterForConf(self, item, total):\n",
    "        if(len(item[0][0]) > len(item[1][0])):\n",
    "            if(self.checkItemSets(item[0][0], item[1][0]) == False):\n",
    "                pass\n",
    "            else:\n",
    "                return item\n",
    "        else:\n",
    "            pass\n",
    "        self.stages = self.stages + 1\n",
    "\n",
    "    # Check Items sets includes at least one common item\n",
    "    # Example command: any(l == k for k in z for l in x)\n",
    "    def checkItemSets(slef, item_1, item_2):\n",
    "        if (len(item_1)) > len(item_2):\n",
    "            return all(any(k==l for k in item_1) for l in item_2)\n",
    "        else:\n",
    "            return all(any(k==l for k in item_2) for l in item_1)\n",
    "        \n",
    "    def calculateConfidence(self, item):\n",
    "        # Parent item list\n",
    "        parent = set(item[0][0])\n",
    "\n",
    "        # Child item list\n",
    "        if(isinstance(item[1][0], str)):\n",
    "            child = set([item[1][0]])\n",
    "        else:\n",
    "            child = set(item[1][0])\n",
    "        \n",
    "        # Parent and Child support values\n",
    "        parentSupport = item[0][1]\n",
    "        childSupport = item[1][1]\n",
    "\n",
    "        # Finds the item set confidence is going to be found\n",
    "        support = (parentSupport / childSupport) * 100\n",
    "\n",
    "        return list([list(child), list(parent.difference(child)), support])\n",
    "    \n",
    "# Example ((('x10', 'x3', 'x6', 'x7', 'x9'), 1), (('x10', 'x3', 'x7'), 1))\n",
    "calcuItems = baseRDD.cartesian(baseRDD)\n",
    "\n",
    "print(calcuItems.collect())"
   ]
  },
  {
   "cell_type": "code",
   "execution_count": 16,
   "metadata": {},
   "outputs": [
    {
     "name": "stderr",
     "output_type": "stream",
     "text": [
      "[Stage 72:====================================================>   (15 + 1) / 16]\r"
     ]
    },
    {
     "name": "stdout",
     "output_type": "stream",
     "text": [
      "[((('Apple', 'Banana', 'Mango'), 4), (('Apple', 'Mango'), 7)), ((('Apple', 'Banana', 'Mango'), 4), (('Apple', 'Banana'), 5)), ((('Apple', 'Banana', 'Mango'), 4), (('Banana', 'Mango'), 6)), ((('Apple', 'Mango', 'Raspberry'), 2), (('Apple', 'Mango'), 7)), ((('Apple', 'Mango', 'Raspberry'), 2), (('Apple', 'Raspberry'), 4)), ((('Banana', 'Mango', 'Raspberry'), 2), (('Banana', 'Mango'), 6)), ((('Apple', 'Mango', 'Raspberry'), 2), (('Mango', 'Raspberry'), 4)), ((('Banana', 'Mango', 'Raspberry'), 2), (('Mango', 'Raspberry'), 4)), ((('Banana', 'Mango', 'Raspberry'), 2), (('Banana', 'Raspberry'), 4))]\n"
     ]
    },
    {
     "name": "stderr",
     "output_type": "stream",
     "text": [
      "                                                                                \r"
     ]
    }
   ],
   "source": [
    "filter = Filter()\n",
    "total = calcuItems.count()\n",
    "baseRDDConfidence = calcuItems.filter(lambda item: filter.filterForConf(item, total))\n",
    "\n",
    "print(baseRDDConfidence.collect())"
   ]
  },
  {
   "cell_type": "code",
   "execution_count": 17,
   "metadata": {},
   "outputs": [
    {
     "name": "stderr",
     "output_type": "stream",
     "text": [
      "[Stage 81:==========================================>             (12 + 1) / 16]\r"
     ]
    },
    {
     "name": "stdout",
     "output_type": "stream",
     "text": [
      "[[['Mango', 'Apple'], ['Banana'], 57.14285714285714], [['Apple', 'Banana'], ['Mango'], 80.0], [['Mango', 'Banana'], ['Apple'], 66.66666666666666], [['Mango', 'Apple'], ['Raspberry'], 28.57142857142857], [['Raspberry', 'Apple'], ['Mango'], 50.0], [['Mango', 'Banana'], ['Raspberry'], 33.33333333333333], [['Mango', 'Raspberry'], ['Apple'], 50.0], [['Mango', 'Raspberry'], ['Banana'], 50.0], [['Raspberry', 'Banana'], ['Mango'], 50.0]]\n"
     ]
    },
    {
     "name": "stderr",
     "output_type": "stream",
     "text": [
      "                                                                                \r"
     ]
    }
   ],
   "source": [
    "baseRDDConfidence = baseRDDConfidence.map(lambda item: filter.calculateConfidence(item))\n",
    "\n",
    "# Customers that buy mango and apple might buy banana with 57.41% confidence\n",
    "print(baseRDDConfidence.collect())"
   ]
  },
  {
   "cell_type": "code",
   "execution_count": 18,
   "metadata": {},
   "outputs": [],
   "source": [
    "import pandas as pd"
   ]
  },
  {
   "cell_type": "code",
   "execution_count": 19,
   "metadata": {},
   "outputs": [
    {
     "name": "stderr",
     "output_type": "stream",
     "text": [
      "[Stage 90:====================================================>   (15 + 1) / 16]\r"
     ]
    },
    {
     "name": "stdout",
     "output_type": "stream",
     "text": [
      "                Before        After  Confidence\n",
      "0       [Mango, Apple]     [Banana]   57.142857\n",
      "1      [Apple, Banana]      [Mango]   80.000000\n",
      "2      [Mango, Banana]      [Apple]   66.666667\n",
      "3       [Mango, Apple]  [Raspberry]   28.571429\n",
      "4   [Raspberry, Apple]      [Mango]   50.000000\n",
      "5      [Mango, Banana]  [Raspberry]   33.333333\n",
      "6   [Mango, Raspberry]      [Apple]   50.000000\n",
      "7   [Mango, Raspberry]     [Banana]   50.000000\n",
      "8  [Raspberry, Banana]      [Mango]   50.000000\n"
     ]
    },
    {
     "name": "stderr",
     "output_type": "stream",
     "text": [
      "                                                                                \r"
     ]
    }
   ],
   "source": [
    "result = baseRDDConfidence.collect()\n",
    "confidenceTable = pd.DataFrame(data=result, columns=[\"Before\", \"After\", \"Confidence\"])\n",
    "\n",
    "print(confidenceTable)"
   ]
  },
  {
   "cell_type": "markdown",
   "metadata": {},
   "source": [
    "# Trying with the groceries dataset"
   ]
  },
  {
   "cell_type": "code",
   "execution_count": 20,
   "metadata": {},
   "outputs": [],
   "source": [
    "from pyspark import SparkContext\n",
    "import pandas as pd"
   ]
  },
  {
   "cell_type": "code",
   "execution_count": 21,
   "metadata": {},
   "outputs": [
    {
     "data": {
      "text/html": [
       "<div>\n",
       "<style scoped>\n",
       "    .dataframe tbody tr th:only-of-type {\n",
       "        vertical-align: middle;\n",
       "    }\n",
       "\n",
       "    .dataframe tbody tr th {\n",
       "        vertical-align: top;\n",
       "    }\n",
       "\n",
       "    .dataframe thead th {\n",
       "        text-align: right;\n",
       "    }\n",
       "</style>\n",
       "<table border=\"1\" class=\"dataframe\">\n",
       "  <thead>\n",
       "    <tr style=\"text-align: right;\">\n",
       "      <th></th>\n",
       "      <th>Member_number</th>\n",
       "      <th>Date</th>\n",
       "      <th>itemDescription</th>\n",
       "    </tr>\n",
       "  </thead>\n",
       "  <tbody>\n",
       "    <tr>\n",
       "      <th>0</th>\n",
       "      <td>1808</td>\n",
       "      <td>21-07-2015</td>\n",
       "      <td>tropical fruit</td>\n",
       "    </tr>\n",
       "    <tr>\n",
       "      <th>1</th>\n",
       "      <td>2552</td>\n",
       "      <td>05-01-2015</td>\n",
       "      <td>whole milk</td>\n",
       "    </tr>\n",
       "    <tr>\n",
       "      <th>2</th>\n",
       "      <td>2300</td>\n",
       "      <td>19-09-2015</td>\n",
       "      <td>pip fruit</td>\n",
       "    </tr>\n",
       "    <tr>\n",
       "      <th>3</th>\n",
       "      <td>1187</td>\n",
       "      <td>12-12-2015</td>\n",
       "      <td>other vegetables</td>\n",
       "    </tr>\n",
       "    <tr>\n",
       "      <th>4</th>\n",
       "      <td>3037</td>\n",
       "      <td>01-02-2015</td>\n",
       "      <td>whole milk</td>\n",
       "    </tr>\n",
       "  </tbody>\n",
       "</table>\n",
       "</div>"
      ],
      "text/plain": [
       "   Member_number        Date   itemDescription\n",
       "0           1808  21-07-2015    tropical fruit\n",
       "1           2552  05-01-2015        whole milk\n",
       "2           2300  19-09-2015         pip fruit\n",
       "3           1187  12-12-2015  other vegetables\n",
       "4           3037  01-02-2015        whole milk"
      ]
     },
     "execution_count": 21,
     "metadata": {},
     "output_type": "execute_result"
    }
   ],
   "source": [
    "df = pd.read_csv('data/Groceries_dataset.csv')\n",
    "\n",
    "df.head()"
   ]
  },
  {
   "cell_type": "code",
   "execution_count": 22,
   "metadata": {},
   "outputs": [
    {
     "data": {
      "text/html": [
       "<div>\n",
       "<style scoped>\n",
       "    .dataframe tbody tr th:only-of-type {\n",
       "        vertical-align: middle;\n",
       "    }\n",
       "\n",
       "    .dataframe tbody tr th {\n",
       "        vertical-align: top;\n",
       "    }\n",
       "\n",
       "    .dataframe thead th {\n",
       "        text-align: right;\n",
       "    }\n",
       "</style>\n",
       "<table border=\"1\" class=\"dataframe\">\n",
       "  <thead>\n",
       "    <tr style=\"text-align: right;\">\n",
       "      <th></th>\n",
       "      <th>Member_number</th>\n",
       "      <th>Date</th>\n",
       "      <th>itemDescription</th>\n",
       "      <th>single_transaction</th>\n",
       "    </tr>\n",
       "  </thead>\n",
       "  <tbody>\n",
       "    <tr>\n",
       "      <th>0</th>\n",
       "      <td>1808</td>\n",
       "      <td>21-07-2015</td>\n",
       "      <td>tropical fruit</td>\n",
       "      <td>1808_21-07-2015</td>\n",
       "    </tr>\n",
       "    <tr>\n",
       "      <th>1</th>\n",
       "      <td>2552</td>\n",
       "      <td>05-01-2015</td>\n",
       "      <td>whole milk</td>\n",
       "      <td>2552_05-01-2015</td>\n",
       "    </tr>\n",
       "    <tr>\n",
       "      <th>2</th>\n",
       "      <td>2300</td>\n",
       "      <td>19-09-2015</td>\n",
       "      <td>pip fruit</td>\n",
       "      <td>2300_19-09-2015</td>\n",
       "    </tr>\n",
       "    <tr>\n",
       "      <th>3</th>\n",
       "      <td>1187</td>\n",
       "      <td>12-12-2015</td>\n",
       "      <td>other vegetables</td>\n",
       "      <td>1187_12-12-2015</td>\n",
       "    </tr>\n",
       "    <tr>\n",
       "      <th>4</th>\n",
       "      <td>3037</td>\n",
       "      <td>01-02-2015</td>\n",
       "      <td>whole milk</td>\n",
       "      <td>3037_01-02-2015</td>\n",
       "    </tr>\n",
       "  </tbody>\n",
       "</table>\n",
       "</div>"
      ],
      "text/plain": [
       "   Member_number        Date   itemDescription single_transaction\n",
       "0           1808  21-07-2015    tropical fruit    1808_21-07-2015\n",
       "1           2552  05-01-2015        whole milk    2552_05-01-2015\n",
       "2           2300  19-09-2015         pip fruit    2300_19-09-2015\n",
       "3           1187  12-12-2015  other vegetables    1187_12-12-2015\n",
       "4           3037  01-02-2015        whole milk    3037_01-02-2015"
      ]
     },
     "execution_count": 22,
     "metadata": {},
     "output_type": "execute_result"
    }
   ],
   "source": [
    "df['single_transaction'] = df['Member_number'].astype(str) + '_' + df['Date']\n",
    "\n",
    "df.head()"
   ]
  },
  {
   "cell_type": "code",
   "execution_count": 23,
   "metadata": {},
   "outputs": [
    {
     "data": {
      "text/html": [
       "<div>\n",
       "<style scoped>\n",
       "    .dataframe tbody tr th:only-of-type {\n",
       "        vertical-align: middle;\n",
       "    }\n",
       "\n",
       "    .dataframe tbody tr th {\n",
       "        vertical-align: top;\n",
       "    }\n",
       "\n",
       "    .dataframe thead th {\n",
       "        text-align: right;\n",
       "    }\n",
       "</style>\n",
       "<table border=\"1\" class=\"dataframe\">\n",
       "  <thead>\n",
       "    <tr style=\"text-align: right;\">\n",
       "      <th>itemDescription</th>\n",
       "      <th>Instant food products</th>\n",
       "      <th>UHT-milk</th>\n",
       "      <th>abrasive cleaner</th>\n",
       "      <th>artif. sweetener</th>\n",
       "      <th>baby cosmetics</th>\n",
       "      <th>bags</th>\n",
       "      <th>baking powder</th>\n",
       "      <th>bathroom cleaner</th>\n",
       "      <th>beef</th>\n",
       "      <th>berries</th>\n",
       "      <th>...</th>\n",
       "      <th>turkey</th>\n",
       "      <th>vinegar</th>\n",
       "      <th>waffles</th>\n",
       "      <th>whipped/sour cream</th>\n",
       "      <th>whisky</th>\n",
       "      <th>white bread</th>\n",
       "      <th>white wine</th>\n",
       "      <th>whole milk</th>\n",
       "      <th>yogurt</th>\n",
       "      <th>zwieback</th>\n",
       "    </tr>\n",
       "    <tr>\n",
       "      <th>single_transaction</th>\n",
       "      <th></th>\n",
       "      <th></th>\n",
       "      <th></th>\n",
       "      <th></th>\n",
       "      <th></th>\n",
       "      <th></th>\n",
       "      <th></th>\n",
       "      <th></th>\n",
       "      <th></th>\n",
       "      <th></th>\n",
       "      <th></th>\n",
       "      <th></th>\n",
       "      <th></th>\n",
       "      <th></th>\n",
       "      <th></th>\n",
       "      <th></th>\n",
       "      <th></th>\n",
       "      <th></th>\n",
       "      <th></th>\n",
       "      <th></th>\n",
       "      <th></th>\n",
       "    </tr>\n",
       "  </thead>\n",
       "  <tbody>\n",
       "    <tr>\n",
       "      <th>1000_15-03-2015</th>\n",
       "      <td>0</td>\n",
       "      <td>0</td>\n",
       "      <td>0</td>\n",
       "      <td>0</td>\n",
       "      <td>0</td>\n",
       "      <td>0</td>\n",
       "      <td>0</td>\n",
       "      <td>0</td>\n",
       "      <td>0</td>\n",
       "      <td>0</td>\n",
       "      <td>...</td>\n",
       "      <td>0</td>\n",
       "      <td>0</td>\n",
       "      <td>0</td>\n",
       "      <td>0</td>\n",
       "      <td>0</td>\n",
       "      <td>0</td>\n",
       "      <td>0</td>\n",
       "      <td>1</td>\n",
       "      <td>1</td>\n",
       "      <td>0</td>\n",
       "    </tr>\n",
       "    <tr>\n",
       "      <th>1000_24-06-2014</th>\n",
       "      <td>0</td>\n",
       "      <td>0</td>\n",
       "      <td>0</td>\n",
       "      <td>0</td>\n",
       "      <td>0</td>\n",
       "      <td>0</td>\n",
       "      <td>0</td>\n",
       "      <td>0</td>\n",
       "      <td>0</td>\n",
       "      <td>0</td>\n",
       "      <td>...</td>\n",
       "      <td>0</td>\n",
       "      <td>0</td>\n",
       "      <td>0</td>\n",
       "      <td>0</td>\n",
       "      <td>0</td>\n",
       "      <td>0</td>\n",
       "      <td>0</td>\n",
       "      <td>1</td>\n",
       "      <td>0</td>\n",
       "      <td>0</td>\n",
       "    </tr>\n",
       "    <tr>\n",
       "      <th>1000_24-07-2015</th>\n",
       "      <td>0</td>\n",
       "      <td>0</td>\n",
       "      <td>0</td>\n",
       "      <td>0</td>\n",
       "      <td>0</td>\n",
       "      <td>0</td>\n",
       "      <td>0</td>\n",
       "      <td>0</td>\n",
       "      <td>0</td>\n",
       "      <td>0</td>\n",
       "      <td>...</td>\n",
       "      <td>0</td>\n",
       "      <td>0</td>\n",
       "      <td>0</td>\n",
       "      <td>0</td>\n",
       "      <td>0</td>\n",
       "      <td>0</td>\n",
       "      <td>0</td>\n",
       "      <td>0</td>\n",
       "      <td>0</td>\n",
       "      <td>0</td>\n",
       "    </tr>\n",
       "    <tr>\n",
       "      <th>1000_25-11-2015</th>\n",
       "      <td>0</td>\n",
       "      <td>0</td>\n",
       "      <td>0</td>\n",
       "      <td>0</td>\n",
       "      <td>0</td>\n",
       "      <td>0</td>\n",
       "      <td>0</td>\n",
       "      <td>0</td>\n",
       "      <td>0</td>\n",
       "      <td>0</td>\n",
       "      <td>...</td>\n",
       "      <td>0</td>\n",
       "      <td>0</td>\n",
       "      <td>0</td>\n",
       "      <td>0</td>\n",
       "      <td>0</td>\n",
       "      <td>0</td>\n",
       "      <td>0</td>\n",
       "      <td>0</td>\n",
       "      <td>0</td>\n",
       "      <td>0</td>\n",
       "    </tr>\n",
       "    <tr>\n",
       "      <th>1000_27-05-2015</th>\n",
       "      <td>0</td>\n",
       "      <td>0</td>\n",
       "      <td>0</td>\n",
       "      <td>0</td>\n",
       "      <td>0</td>\n",
       "      <td>0</td>\n",
       "      <td>0</td>\n",
       "      <td>0</td>\n",
       "      <td>0</td>\n",
       "      <td>0</td>\n",
       "      <td>...</td>\n",
       "      <td>0</td>\n",
       "      <td>0</td>\n",
       "      <td>0</td>\n",
       "      <td>0</td>\n",
       "      <td>0</td>\n",
       "      <td>0</td>\n",
       "      <td>0</td>\n",
       "      <td>0</td>\n",
       "      <td>0</td>\n",
       "      <td>0</td>\n",
       "    </tr>\n",
       "  </tbody>\n",
       "</table>\n",
       "<p>5 rows × 167 columns</p>\n",
       "</div>"
      ],
      "text/plain": [
       "itemDescription     Instant food products  UHT-milk  abrasive cleaner  \\\n",
       "single_transaction                                                      \n",
       "1000_15-03-2015                         0         0                 0   \n",
       "1000_24-06-2014                         0         0                 0   \n",
       "1000_24-07-2015                         0         0                 0   \n",
       "1000_25-11-2015                         0         0                 0   \n",
       "1000_27-05-2015                         0         0                 0   \n",
       "\n",
       "itemDescription     artif. sweetener  baby cosmetics  bags  baking powder  \\\n",
       "single_transaction                                                          \n",
       "1000_15-03-2015                    0               0     0              0   \n",
       "1000_24-06-2014                    0               0     0              0   \n",
       "1000_24-07-2015                    0               0     0              0   \n",
       "1000_25-11-2015                    0               0     0              0   \n",
       "1000_27-05-2015                    0               0     0              0   \n",
       "\n",
       "itemDescription     bathroom cleaner  beef  berries  ...  turkey  vinegar  \\\n",
       "single_transaction                                   ...                    \n",
       "1000_15-03-2015                    0     0        0  ...       0        0   \n",
       "1000_24-06-2014                    0     0        0  ...       0        0   \n",
       "1000_24-07-2015                    0     0        0  ...       0        0   \n",
       "1000_25-11-2015                    0     0        0  ...       0        0   \n",
       "1000_27-05-2015                    0     0        0  ...       0        0   \n",
       "\n",
       "itemDescription     waffles  whipped/sour cream  whisky  white bread  \\\n",
       "single_transaction                                                     \n",
       "1000_15-03-2015           0                   0       0            0   \n",
       "1000_24-06-2014           0                   0       0            0   \n",
       "1000_24-07-2015           0                   0       0            0   \n",
       "1000_25-11-2015           0                   0       0            0   \n",
       "1000_27-05-2015           0                   0       0            0   \n",
       "\n",
       "itemDescription     white wine  whole milk  yogurt  zwieback  \n",
       "single_transaction                                            \n",
       "1000_15-03-2015              0           1       1         0  \n",
       "1000_24-06-2014              0           1       0         0  \n",
       "1000_24-07-2015              0           0       0         0  \n",
       "1000_25-11-2015              0           0       0         0  \n",
       "1000_27-05-2015              0           0       0         0  \n",
       "\n",
       "[5 rows x 167 columns]"
      ]
     },
     "execution_count": 23,
     "metadata": {},
     "output_type": "execute_result"
    }
   ],
   "source": [
    "# Creates a pivot table.\n",
    "# First argument of the crosstab function receives the variable that will be on the rows.\n",
    "# Second argument receives variable to be on the columns.\n",
    "df2 = pd.crosstab(df['single_transaction'], df['itemDescription'])\n",
    "\n",
    "df2.head()"
   ]
  },
  {
   "cell_type": "code",
   "execution_count": 24,
   "metadata": {},
   "outputs": [],
   "source": [
    "# df2 can have values greater than 1 if someone buys more than 1 of the same item in the same purchase.\n",
    "# Market basket analysis does not take quantity of items in consideration, so we transform it to 1.\n",
    "def encode(item_freq):\n",
    "    res = 0\n",
    "\n",
    "    if item_freq > 0:\n",
    "        res = 1\n",
    "    \n",
    "    return res"
   ]
  },
  {
   "cell_type": "code",
   "execution_count": 25,
   "metadata": {},
   "outputs": [
    {
     "name": "stderr",
     "output_type": "stream",
     "text": [
      "/tmp/ipykernel_14436/2358280231.py:1: FutureWarning: DataFrame.applymap has been deprecated. Use DataFrame.map instead.\n",
      "  basket_input = df2.applymap(encode)\n"
     ]
    },
    {
     "data": {
      "text/html": [
       "<div>\n",
       "<style scoped>\n",
       "    .dataframe tbody tr th:only-of-type {\n",
       "        vertical-align: middle;\n",
       "    }\n",
       "\n",
       "    .dataframe tbody tr th {\n",
       "        vertical-align: top;\n",
       "    }\n",
       "\n",
       "    .dataframe thead th {\n",
       "        text-align: right;\n",
       "    }\n",
       "</style>\n",
       "<table border=\"1\" class=\"dataframe\">\n",
       "  <thead>\n",
       "    <tr style=\"text-align: right;\">\n",
       "      <th>itemDescription</th>\n",
       "      <th>Instant food products</th>\n",
       "      <th>UHT-milk</th>\n",
       "      <th>abrasive cleaner</th>\n",
       "      <th>artif. sweetener</th>\n",
       "      <th>baby cosmetics</th>\n",
       "      <th>bags</th>\n",
       "      <th>baking powder</th>\n",
       "      <th>bathroom cleaner</th>\n",
       "      <th>beef</th>\n",
       "      <th>berries</th>\n",
       "      <th>...</th>\n",
       "      <th>turkey</th>\n",
       "      <th>vinegar</th>\n",
       "      <th>waffles</th>\n",
       "      <th>whipped/sour cream</th>\n",
       "      <th>whisky</th>\n",
       "      <th>white bread</th>\n",
       "      <th>white wine</th>\n",
       "      <th>whole milk</th>\n",
       "      <th>yogurt</th>\n",
       "      <th>zwieback</th>\n",
       "    </tr>\n",
       "    <tr>\n",
       "      <th>single_transaction</th>\n",
       "      <th></th>\n",
       "      <th></th>\n",
       "      <th></th>\n",
       "      <th></th>\n",
       "      <th></th>\n",
       "      <th></th>\n",
       "      <th></th>\n",
       "      <th></th>\n",
       "      <th></th>\n",
       "      <th></th>\n",
       "      <th></th>\n",
       "      <th></th>\n",
       "      <th></th>\n",
       "      <th></th>\n",
       "      <th></th>\n",
       "      <th></th>\n",
       "      <th></th>\n",
       "      <th></th>\n",
       "      <th></th>\n",
       "      <th></th>\n",
       "      <th></th>\n",
       "    </tr>\n",
       "  </thead>\n",
       "  <tbody>\n",
       "    <tr>\n",
       "      <th>1000_15-03-2015</th>\n",
       "      <td>0</td>\n",
       "      <td>0</td>\n",
       "      <td>0</td>\n",
       "      <td>0</td>\n",
       "      <td>0</td>\n",
       "      <td>0</td>\n",
       "      <td>0</td>\n",
       "      <td>0</td>\n",
       "      <td>0</td>\n",
       "      <td>0</td>\n",
       "      <td>...</td>\n",
       "      <td>0</td>\n",
       "      <td>0</td>\n",
       "      <td>0</td>\n",
       "      <td>0</td>\n",
       "      <td>0</td>\n",
       "      <td>0</td>\n",
       "      <td>0</td>\n",
       "      <td>1</td>\n",
       "      <td>1</td>\n",
       "      <td>0</td>\n",
       "    </tr>\n",
       "    <tr>\n",
       "      <th>1000_24-06-2014</th>\n",
       "      <td>0</td>\n",
       "      <td>0</td>\n",
       "      <td>0</td>\n",
       "      <td>0</td>\n",
       "      <td>0</td>\n",
       "      <td>0</td>\n",
       "      <td>0</td>\n",
       "      <td>0</td>\n",
       "      <td>0</td>\n",
       "      <td>0</td>\n",
       "      <td>...</td>\n",
       "      <td>0</td>\n",
       "      <td>0</td>\n",
       "      <td>0</td>\n",
       "      <td>0</td>\n",
       "      <td>0</td>\n",
       "      <td>0</td>\n",
       "      <td>0</td>\n",
       "      <td>1</td>\n",
       "      <td>0</td>\n",
       "      <td>0</td>\n",
       "    </tr>\n",
       "    <tr>\n",
       "      <th>1000_24-07-2015</th>\n",
       "      <td>0</td>\n",
       "      <td>0</td>\n",
       "      <td>0</td>\n",
       "      <td>0</td>\n",
       "      <td>0</td>\n",
       "      <td>0</td>\n",
       "      <td>0</td>\n",
       "      <td>0</td>\n",
       "      <td>0</td>\n",
       "      <td>0</td>\n",
       "      <td>...</td>\n",
       "      <td>0</td>\n",
       "      <td>0</td>\n",
       "      <td>0</td>\n",
       "      <td>0</td>\n",
       "      <td>0</td>\n",
       "      <td>0</td>\n",
       "      <td>0</td>\n",
       "      <td>0</td>\n",
       "      <td>0</td>\n",
       "      <td>0</td>\n",
       "    </tr>\n",
       "    <tr>\n",
       "      <th>1000_25-11-2015</th>\n",
       "      <td>0</td>\n",
       "      <td>0</td>\n",
       "      <td>0</td>\n",
       "      <td>0</td>\n",
       "      <td>0</td>\n",
       "      <td>0</td>\n",
       "      <td>0</td>\n",
       "      <td>0</td>\n",
       "      <td>0</td>\n",
       "      <td>0</td>\n",
       "      <td>...</td>\n",
       "      <td>0</td>\n",
       "      <td>0</td>\n",
       "      <td>0</td>\n",
       "      <td>0</td>\n",
       "      <td>0</td>\n",
       "      <td>0</td>\n",
       "      <td>0</td>\n",
       "      <td>0</td>\n",
       "      <td>0</td>\n",
       "      <td>0</td>\n",
       "    </tr>\n",
       "    <tr>\n",
       "      <th>1000_27-05-2015</th>\n",
       "      <td>0</td>\n",
       "      <td>0</td>\n",
       "      <td>0</td>\n",
       "      <td>0</td>\n",
       "      <td>0</td>\n",
       "      <td>0</td>\n",
       "      <td>0</td>\n",
       "      <td>0</td>\n",
       "      <td>0</td>\n",
       "      <td>0</td>\n",
       "      <td>...</td>\n",
       "      <td>0</td>\n",
       "      <td>0</td>\n",
       "      <td>0</td>\n",
       "      <td>0</td>\n",
       "      <td>0</td>\n",
       "      <td>0</td>\n",
       "      <td>0</td>\n",
       "      <td>0</td>\n",
       "      <td>0</td>\n",
       "      <td>0</td>\n",
       "    </tr>\n",
       "  </tbody>\n",
       "</table>\n",
       "<p>5 rows × 167 columns</p>\n",
       "</div>"
      ],
      "text/plain": [
       "itemDescription     Instant food products  UHT-milk  abrasive cleaner  \\\n",
       "single_transaction                                                      \n",
       "1000_15-03-2015                         0         0                 0   \n",
       "1000_24-06-2014                         0         0                 0   \n",
       "1000_24-07-2015                         0         0                 0   \n",
       "1000_25-11-2015                         0         0                 0   \n",
       "1000_27-05-2015                         0         0                 0   \n",
       "\n",
       "itemDescription     artif. sweetener  baby cosmetics  bags  baking powder  \\\n",
       "single_transaction                                                          \n",
       "1000_15-03-2015                    0               0     0              0   \n",
       "1000_24-06-2014                    0               0     0              0   \n",
       "1000_24-07-2015                    0               0     0              0   \n",
       "1000_25-11-2015                    0               0     0              0   \n",
       "1000_27-05-2015                    0               0     0              0   \n",
       "\n",
       "itemDescription     bathroom cleaner  beef  berries  ...  turkey  vinegar  \\\n",
       "single_transaction                                   ...                    \n",
       "1000_15-03-2015                    0     0        0  ...       0        0   \n",
       "1000_24-06-2014                    0     0        0  ...       0        0   \n",
       "1000_24-07-2015                    0     0        0  ...       0        0   \n",
       "1000_25-11-2015                    0     0        0  ...       0        0   \n",
       "1000_27-05-2015                    0     0        0  ...       0        0   \n",
       "\n",
       "itemDescription     waffles  whipped/sour cream  whisky  white bread  \\\n",
       "single_transaction                                                     \n",
       "1000_15-03-2015           0                   0       0            0   \n",
       "1000_24-06-2014           0                   0       0            0   \n",
       "1000_24-07-2015           0                   0       0            0   \n",
       "1000_25-11-2015           0                   0       0            0   \n",
       "1000_27-05-2015           0                   0       0            0   \n",
       "\n",
       "itemDescription     white wine  whole milk  yogurt  zwieback  \n",
       "single_transaction                                            \n",
       "1000_15-03-2015              0           1       1         0  \n",
       "1000_24-06-2014              0           1       0         0  \n",
       "1000_24-07-2015              0           0       0         0  \n",
       "1000_25-11-2015              0           0       0         0  \n",
       "1000_27-05-2015              0           0       0         0  \n",
       "\n",
       "[5 rows x 167 columns]"
      ]
     },
     "execution_count": 25,
     "metadata": {},
     "output_type": "execute_result"
    }
   ],
   "source": [
    "basket_input = df2.applymap(encode)\n",
    "\n",
    "basket_input.head()"
   ]
  },
  {
   "cell_type": "code",
   "execution_count": 26,
   "metadata": {},
   "outputs": [],
   "source": [
    "def extract_items(purchase):\n",
    "    return [column for column in basket_input.columns if purchase[column]==1]"
   ]
  },
  {
   "cell_type": "code",
   "execution_count": 28,
   "metadata": {},
   "outputs": [
    {
     "name": "stdout",
     "output_type": "stream",
     "text": [
      "[['sausage', 'semi-finished bread', 'whole milk', 'yogurt'], ['pastry', 'salty snack', 'whole milk'], ['canned beer', 'misc. beverages'], ['hygiene articles', 'sausage'], ['pickled vegetables', 'soda'], ['curd', 'frankfurter'], ['rolls/buns', 'sausage', 'whole milk'], ['soda', 'whole milk'], ['beef', 'white bread'], ['frankfurter', 'soda', 'whipped/sour cream']]\n"
     ]
    }
   ],
   "source": [
    "purchase_arrays = basket_input.apply(extract_items, axis=1).tolist()\n",
    "print(purchase_arrays[:10])"
   ]
  },
  {
   "cell_type": "code",
   "execution_count": 30,
   "metadata": {},
   "outputs": [
    {
     "name": "stdout",
     "output_type": "stream",
     "text": [
      "[['sausage', 'semi-finished bread', 'whole milk', 'yogurt'], ['pastry', 'salty snack', 'whole milk'], ['canned beer', 'misc. beverages'], ['hygiene articles', 'sausage'], ['pickled vegetables', 'soda'], ['curd', 'frankfurter'], ['rolls/buns', 'sausage', 'whole milk'], ['soda', 'whole milk'], ['beef', 'white bread'], ['frankfurter', 'soda', 'whipped/sour cream']]\n"
     ]
    }
   ],
   "source": [
    "lbitems = spark.parallelize(purchase_arrays)\n",
    "\n",
    "print(lbitems.collect()[:10])"
   ]
  },
  {
   "cell_type": "code",
   "execution_count": 31,
   "metadata": {},
   "outputs": [
    {
     "name": "stdout",
     "output_type": "stream",
     "text": [
      "['sausage', 'semi-finished bread', 'whole milk', 'yogurt', 'pastry', 'salty snack', 'whole milk', 'canned beer', 'misc. beverages', 'hygiene articles']\n"
     ]
    }
   ],
   "source": [
    "# Transform each element into an value of the RDD.\n",
    "wlitems = lbitems.flatMap(lambda x: x)\n",
    "\n",
    "print(wlitems.collect()[:10])"
   ]
  },
  {
   "cell_type": "code",
   "execution_count": 32,
   "metadata": {},
   "outputs": [
    {
     "name": "stdout",
     "output_type": "stream",
     "text": [
      "[('sausage', 1), ('semi-finished bread', 1), ('whole milk', 1), ('yogurt', 1), ('pastry', 1), ('salty snack', 1), ('whole milk', 1), ('canned beer', 1), ('misc. beverages', 1), ('hygiene articles', 1)]\n"
     ]
    }
   ],
   "source": [
    "uniqueItems = wlitems.distinct()\n",
    "\n",
    "# Contains each value and 1 as tuple.\n",
    "# Ex: ('Apple', 1)\n",
    "supportRDD = wlitems.map(lambda item: (item, 1))\n",
    "\n",
    "print(supportRDD.collect()[:10])"
   ]
  },
  {
   "cell_type": "code",
   "execution_count": 33,
   "metadata": {},
   "outputs": [],
   "source": [
    "def sumOperator(x, y):\n",
    "    return x+y"
   ]
  },
  {
   "cell_type": "code",
   "execution_count": 34,
   "metadata": {},
   "outputs": [
    {
     "name": "stdout",
     "output_type": "stream",
     "text": [
      "[('sausage', 903), ('semi-finished bread', 142), ('whole milk', 2363), ('yogurt', 1285), ('pastry', 774), ('salty snack', 281), ('canned beer', 702), ('misc. beverages', 236), ('hygiene articles', 205), ('pickled vegetables', 134)]\n"
     ]
    }
   ],
   "source": [
    "# Sum of values by key\n",
    "supportRDD = supportRDD.reduceByKey(sumOperator)\n",
    "\n",
    "print(supportRDD.collect()[:10])"
   ]
  },
  {
   "cell_type": "code",
   "execution_count": 35,
   "metadata": {},
   "outputs": [
    {
     "name": "stdout",
     "output_type": "stream",
     "text": [
      "[903, 142, 2363, 1285, 774, 281, 702, 236, 205, 134]\n"
     ]
    }
   ],
   "source": [
    "# Get an RDD with only the counts of each element\n",
    "supports = supportRDD.map(lambda item: item[1])\n",
    "\n",
    "print(supports.collect()[:10])"
   ]
  },
  {
   "cell_type": "code",
   "execution_count": 36,
   "metadata": {},
   "outputs": [
    {
     "data": {
      "text/plain": [
       "1"
      ]
     },
     "execution_count": 36,
     "metadata": {},
     "output_type": "execute_result"
    }
   ],
   "source": [
    "minSupportData = supports.min()\n",
    "minSupportData"
   ]
  },
  {
   "cell_type": "code",
   "execution_count": 37,
   "metadata": {},
   "outputs": [
    {
     "name": "stdout",
     "output_type": "stream",
     "text": [
      "[['sausage', 903], ['semi-finished bread', 142], ['whole milk', 2363], ['yogurt', 1285], ['pastry', 774], ['salty snack', 281], ['canned beer', 702], ['misc. beverages', 236], ['hygiene articles', 205], ['pickled vegetables', 134]]\n"
     ]
    }
   ],
   "source": [
    "minSupport = 2\n",
    "supportRDD = supportRDD.filter(lambda item: item[1] >= minSupport)\n",
    "\n",
    "# Transforms each element of the RDD into a list instead of tuple\n",
    "baseRDD = supportRDD.map(lambda item: ([item[0], item[1]]))\n",
    "\n",
    "print(baseRDD.collect()[:10])"
   ]
  },
  {
   "cell_type": "code",
   "execution_count": 38,
   "metadata": {},
   "outputs": [
    {
     "name": "stdout",
     "output_type": "stream",
     "text": [
      "['sausage', 'semi-finished bread', 'whole milk', 'yogurt', 'pastry', 'salty snack', 'canned beer', 'misc. beverages', 'hygiene articles', 'pickled vegetables']\n"
     ]
    }
   ],
   "source": [
    "# Make an RDD with only the unique item names\n",
    "supportRDDCart = supportRDD.map(lambda item: item[0])\n",
    "\n",
    "print(supportRDDCart.collect()[:10])"
   ]
  },
  {
   "cell_type": "code",
   "execution_count": 39,
   "metadata": {},
   "outputs": [],
   "source": [
    "def removeReplica(record):\n",
    "    if(isinstance(record[0], tuple)):\n",
    "        x1 = record[0]\n",
    "        x2 = record[1]\n",
    "    else:\n",
    "        x1 = [record[0]]\n",
    "        x2 = record[1]\n",
    "    \n",
    "    if(not any(x ==x2 for x in x1)):\n",
    "        a = list(x1)\n",
    "        a.append(x2)\n",
    "        a.sort()\n",
    "        result = tuple(a)\n",
    "    \n",
    "        return result\n",
    "\n",
    "    return x1"
   ]
  },
  {
   "cell_type": "code",
   "execution_count": 21,
   "metadata": {},
   "outputs": [
    {
     "name": "stdout",
     "output_type": "stream",
     "text": [
      "2 . Table was created...\n"
     ]
    },
    {
     "name": "stderr",
     "output_type": "stream",
     "text": [
      "                                                                                \r"
     ]
    },
    {
     "name": "stdout",
     "output_type": "stream",
     "text": [
      "3 . Table was created...\n"
     ]
    },
    {
     "name": "stderr",
     "output_type": "stream",
     "text": [
      "ERROR:root:KeyboardInterrupt while sending command.                 (0 + 1) / 1]\n",
      "Traceback (most recent call last):\n",
      "  File \"/home/gabs/Projects/2023/market-basket-analysis/venv/lib/python3.10/site-packages/py4j/java_gateway.py\", line 1038, in send_command\n",
      "    response = connection.send_command(command)\n",
      "  File \"/home/gabs/Projects/2023/market-basket-analysis/venv/lib/python3.10/site-packages/py4j/clientserver.py\", line 511, in send_command\n",
      "    answer = smart_decode(self.stream.readline()[:-1])\n",
      "  File \"/home/gabs/.pyenv/versions/3.10.4/lib/python3.10/socket.py\", line 705, in readinto\n",
      "    return self._sock.recv_into(b)\n",
      "KeyboardInterrupt\n"
     ]
    },
    {
     "ename": "KeyboardInterrupt",
     "evalue": "",
     "output_type": "error",
     "traceback": [
      "\u001b[0;31m---------------------------------------------------------------------------\u001b[0m",
      "\u001b[0;31mKeyboardInterrupt\u001b[0m                         Traceback (most recent call last)",
      "\u001b[1;32m/home/gabs/Projects/2023/market-basket-analysis/apriori_pyspark.ipynb Cell 41\u001b[0m line \u001b[0;36m3\n\u001b[1;32m      <a href='vscode-notebook-cell:/home/gabs/Projects/2023/market-basket-analysis/apriori_pyspark.ipynb#X52sZmlsZQ%3D%3D?line=0'>1</a>\u001b[0m c \u001b[39m=\u001b[39m \u001b[39m2\u001b[39m \u001b[39m# Combination length\u001b[39;00m\n\u001b[0;32m----> <a href='vscode-notebook-cell:/home/gabs/Projects/2023/market-basket-analysis/apriori_pyspark.ipynb#X52sZmlsZQ%3D%3D?line=2'>3</a>\u001b[0m \u001b[39mwhile\u001b[39;00m(supportRDDCart\u001b[39m.\u001b[39;49misEmpty() \u001b[39m==\u001b[39m \u001b[39mFalse\u001b[39;00m):\n\u001b[1;32m      <a href='vscode-notebook-cell:/home/gabs/Projects/2023/market-basket-analysis/apriori_pyspark.ipynb#X52sZmlsZQ%3D%3D?line=3'>4</a>\u001b[0m     \u001b[39m# Makes all the combinations of items.\u001b[39;00m\n\u001b[1;32m      <a href='vscode-notebook-cell:/home/gabs/Projects/2023/market-basket-analysis/apriori_pyspark.ipynb#X52sZmlsZQ%3D%3D?line=4'>5</a>\u001b[0m     \u001b[39m# Ex: [('Apple', 'Apple'), ('Apple', 'Mango')..]\u001b[39;00m\n\u001b[1;32m      <a href='vscode-notebook-cell:/home/gabs/Projects/2023/market-basket-analysis/apriori_pyspark.ipynb#X52sZmlsZQ%3D%3D?line=5'>6</a>\u001b[0m     combined \u001b[39m=\u001b[39m supportRDDCart\u001b[39m.\u001b[39mcartesian(uniqueItems)\n\u001b[1;32m      <a href='vscode-notebook-cell:/home/gabs/Projects/2023/market-basket-analysis/apriori_pyspark.ipynb#X52sZmlsZQ%3D%3D?line=7'>8</a>\u001b[0m     \u001b[39m# Turn elements with repeated items such as ('Apple', 'Apple') into ['Apple']\u001b[39;00m\n",
      "File \u001b[0;32m~/Projects/2023/market-basket-analysis/venv/lib/python3.10/site-packages/pyspark/rdd.py:2920\u001b[0m, in \u001b[0;36mRDD.isEmpty\u001b[0;34m(self)\u001b[0m\n\u001b[1;32m   2893\u001b[0m \u001b[39mdef\u001b[39;00m \u001b[39misEmpty\u001b[39m(\u001b[39mself\u001b[39m) \u001b[39m-\u001b[39m\u001b[39m>\u001b[39m \u001b[39mbool\u001b[39m:\n\u001b[1;32m   2894\u001b[0m \u001b[39m    \u001b[39m\u001b[39m\"\"\"\u001b[39;00m\n\u001b[1;32m   2895\u001b[0m \u001b[39m    Returns true if and only if the RDD contains no elements at all.\u001b[39;00m\n\u001b[1;32m   2896\u001b[0m \n\u001b[0;32m   (...)\u001b[0m\n\u001b[1;32m   2918\u001b[0m \u001b[39m    False\u001b[39;00m\n\u001b[1;32m   2919\u001b[0m \u001b[39m    \"\"\"\u001b[39;00m\n\u001b[0;32m-> 2920\u001b[0m     \u001b[39mreturn\u001b[39;00m \u001b[39mself\u001b[39m\u001b[39m.\u001b[39mgetNumPartitions() \u001b[39m==\u001b[39m \u001b[39m0\u001b[39m \u001b[39mor\u001b[39;00m \u001b[39mlen\u001b[39m(\u001b[39mself\u001b[39;49m\u001b[39m.\u001b[39;49mtake(\u001b[39m1\u001b[39;49m)) \u001b[39m==\u001b[39m \u001b[39m0\u001b[39m\n",
      "File \u001b[0;32m~/Projects/2023/market-basket-analysis/venv/lib/python3.10/site-packages/pyspark/rdd.py:2855\u001b[0m, in \u001b[0;36mRDD.take\u001b[0;34m(self, num)\u001b[0m\n\u001b[1;32m   2852\u001b[0m         taken \u001b[39m+\u001b[39m\u001b[39m=\u001b[39m \u001b[39m1\u001b[39m\n\u001b[1;32m   2854\u001b[0m p \u001b[39m=\u001b[39m \u001b[39mrange\u001b[39m(partsScanned, \u001b[39mmin\u001b[39m(partsScanned \u001b[39m+\u001b[39m numPartsToTry, totalParts))\n\u001b[0;32m-> 2855\u001b[0m res \u001b[39m=\u001b[39m \u001b[39mself\u001b[39;49m\u001b[39m.\u001b[39;49mcontext\u001b[39m.\u001b[39;49mrunJob(\u001b[39mself\u001b[39;49m, takeUpToNumLeft, p)\n\u001b[1;32m   2857\u001b[0m items \u001b[39m+\u001b[39m\u001b[39m=\u001b[39m res\n\u001b[1;32m   2858\u001b[0m partsScanned \u001b[39m+\u001b[39m\u001b[39m=\u001b[39m numPartsToTry\n",
      "File \u001b[0;32m~/Projects/2023/market-basket-analysis/venv/lib/python3.10/site-packages/pyspark/context.py:2510\u001b[0m, in \u001b[0;36mSparkContext.runJob\u001b[0;34m(self, rdd, partitionFunc, partitions, allowLocal)\u001b[0m\n\u001b[1;32m   2508\u001b[0m mappedRDD \u001b[39m=\u001b[39m rdd\u001b[39m.\u001b[39mmapPartitions(partitionFunc)\n\u001b[1;32m   2509\u001b[0m \u001b[39massert\u001b[39;00m \u001b[39mself\u001b[39m\u001b[39m.\u001b[39m_jvm \u001b[39mis\u001b[39;00m \u001b[39mnot\u001b[39;00m \u001b[39mNone\u001b[39;00m\n\u001b[0;32m-> 2510\u001b[0m sock_info \u001b[39m=\u001b[39m \u001b[39mself\u001b[39;49m\u001b[39m.\u001b[39;49m_jvm\u001b[39m.\u001b[39;49mPythonRDD\u001b[39m.\u001b[39;49mrunJob(\u001b[39mself\u001b[39;49m\u001b[39m.\u001b[39;49m_jsc\u001b[39m.\u001b[39;49msc(), mappedRDD\u001b[39m.\u001b[39;49m_jrdd, partitions)\n\u001b[1;32m   2511\u001b[0m \u001b[39mreturn\u001b[39;00m \u001b[39mlist\u001b[39m(_load_from_socket(sock_info, mappedRDD\u001b[39m.\u001b[39m_jrdd_deserializer))\n",
      "File \u001b[0;32m~/Projects/2023/market-basket-analysis/venv/lib/python3.10/site-packages/py4j/java_gateway.py:1321\u001b[0m, in \u001b[0;36mJavaMember.__call__\u001b[0;34m(self, *args)\u001b[0m\n\u001b[1;32m   1314\u001b[0m args_command, temp_args \u001b[39m=\u001b[39m \u001b[39mself\u001b[39m\u001b[39m.\u001b[39m_build_args(\u001b[39m*\u001b[39margs)\n\u001b[1;32m   1316\u001b[0m command \u001b[39m=\u001b[39m proto\u001b[39m.\u001b[39mCALL_COMMAND_NAME \u001b[39m+\u001b[39m\\\n\u001b[1;32m   1317\u001b[0m     \u001b[39mself\u001b[39m\u001b[39m.\u001b[39mcommand_header \u001b[39m+\u001b[39m\\\n\u001b[1;32m   1318\u001b[0m     args_command \u001b[39m+\u001b[39m\\\n\u001b[1;32m   1319\u001b[0m     proto\u001b[39m.\u001b[39mEND_COMMAND_PART\n\u001b[0;32m-> 1321\u001b[0m answer \u001b[39m=\u001b[39m \u001b[39mself\u001b[39;49m\u001b[39m.\u001b[39;49mgateway_client\u001b[39m.\u001b[39;49msend_command(command)\n\u001b[1;32m   1322\u001b[0m return_value \u001b[39m=\u001b[39m get_return_value(\n\u001b[1;32m   1323\u001b[0m     answer, \u001b[39mself\u001b[39m\u001b[39m.\u001b[39mgateway_client, \u001b[39mself\u001b[39m\u001b[39m.\u001b[39mtarget_id, \u001b[39mself\u001b[39m\u001b[39m.\u001b[39mname)\n\u001b[1;32m   1325\u001b[0m \u001b[39mfor\u001b[39;00m temp_arg \u001b[39min\u001b[39;00m temp_args:\n",
      "File \u001b[0;32m~/Projects/2023/market-basket-analysis/venv/lib/python3.10/site-packages/py4j/java_gateway.py:1038\u001b[0m, in \u001b[0;36mGatewayClient.send_command\u001b[0;34m(self, command, retry, binary)\u001b[0m\n\u001b[1;32m   1036\u001b[0m connection \u001b[39m=\u001b[39m \u001b[39mself\u001b[39m\u001b[39m.\u001b[39m_get_connection()\n\u001b[1;32m   1037\u001b[0m \u001b[39mtry\u001b[39;00m:\n\u001b[0;32m-> 1038\u001b[0m     response \u001b[39m=\u001b[39m connection\u001b[39m.\u001b[39;49msend_command(command)\n\u001b[1;32m   1039\u001b[0m     \u001b[39mif\u001b[39;00m binary:\n\u001b[1;32m   1040\u001b[0m         \u001b[39mreturn\u001b[39;00m response, \u001b[39mself\u001b[39m\u001b[39m.\u001b[39m_create_connection_guard(connection)\n",
      "File \u001b[0;32m~/Projects/2023/market-basket-analysis/venv/lib/python3.10/site-packages/py4j/clientserver.py:511\u001b[0m, in \u001b[0;36mClientServerConnection.send_command\u001b[0;34m(self, command)\u001b[0m\n\u001b[1;32m    509\u001b[0m \u001b[39mtry\u001b[39;00m:\n\u001b[1;32m    510\u001b[0m     \u001b[39mwhile\u001b[39;00m \u001b[39mTrue\u001b[39;00m:\n\u001b[0;32m--> 511\u001b[0m         answer \u001b[39m=\u001b[39m smart_decode(\u001b[39mself\u001b[39;49m\u001b[39m.\u001b[39;49mstream\u001b[39m.\u001b[39;49mreadline()[:\u001b[39m-\u001b[39m\u001b[39m1\u001b[39m])\n\u001b[1;32m    512\u001b[0m         logger\u001b[39m.\u001b[39mdebug(\u001b[39m\"\u001b[39m\u001b[39mAnswer received: \u001b[39m\u001b[39m{0}\u001b[39;00m\u001b[39m\"\u001b[39m\u001b[39m.\u001b[39mformat(answer))\n\u001b[1;32m    513\u001b[0m         \u001b[39m# Happens when a the other end is dead. There might be an empty\u001b[39;00m\n\u001b[1;32m    514\u001b[0m         \u001b[39m# answer before the socket raises an error.\u001b[39;00m\n",
      "File \u001b[0;32m~/.pyenv/versions/3.10.4/lib/python3.10/socket.py:705\u001b[0m, in \u001b[0;36mSocketIO.readinto\u001b[0;34m(self, b)\u001b[0m\n\u001b[1;32m    703\u001b[0m \u001b[39mwhile\u001b[39;00m \u001b[39mTrue\u001b[39;00m:\n\u001b[1;32m    704\u001b[0m     \u001b[39mtry\u001b[39;00m:\n\u001b[0;32m--> 705\u001b[0m         \u001b[39mreturn\u001b[39;00m \u001b[39mself\u001b[39;49m\u001b[39m.\u001b[39;49m_sock\u001b[39m.\u001b[39;49mrecv_into(b)\n\u001b[1;32m    706\u001b[0m     \u001b[39mexcept\u001b[39;00m timeout:\n\u001b[1;32m    707\u001b[0m         \u001b[39mself\u001b[39m\u001b[39m.\u001b[39m_timeout_occurred \u001b[39m=\u001b[39m \u001b[39mTrue\u001b[39;00m\n",
      "\u001b[0;31mKeyboardInterrupt\u001b[0m: "
     ]
    },
    {
     "name": "stderr",
     "output_type": "stream",
     "text": [
      "[Stage 27:>                                                         (0 + 1) / 1]\r"
     ]
    }
   ],
   "source": [
    "# Unfortunately, the dataset seems to large for this manual implementation,\n",
    "# as this section was not able to run after 30 min.\n",
    "# This shows that the implementation is not efficient enough.\n",
    "\n",
    "c = 2 # Combination length\n",
    "\n",
    "while(supportRDDCart.isEmpty() == False):\n",
    "    # Makes all the combinations of items.\n",
    "    # Ex: [('Apple', 'Apple'), ('Apple', 'Mango')..]\n",
    "    combined = supportRDDCart.cartesian(uniqueItems)\n",
    "    \n",
    "    # Turn elements with repeated items such as ('Apple', 'Apple') into ['Apple']\n",
    "    combined = combined.map(lambda item: removeReplica(item))\n",
    "\n",
    "    # Make combinations of 3 items\n",
    "    combined = combined.filter(lambda item: len(item) == c)\n",
    "    combined = combined.distinct()\n",
    "    combined2 = combined.cartesian(lbitems)\n",
    "\n",
    "    combined2 = combined2.filter(lambda item: all(x in item[1] for x in item[0]))\n",
    "    combined2 = combined2.map(lambda item: item[0])\n",
    "    combined2 = combined2.map(lambda item: (item, 1))\n",
    "\n",
    "    # Count combinations\n",
    "    combined2 = combined2.reduceByKey(sumOperator)\n",
    "\n",
    "    combined2 = combined2.filter(lambda item: item[1] >= minSupport)\n",
    "    baseRDD = baseRDD.union(combined2)\n",
    "    combined2 = combined2.map(lambda item: item[0])\n",
    "    supportRDDCart = combined2\n",
    "    \n",
    "    print(c, '. Table was created...') \n",
    "    \n",
    "    c = c + 1\n",
    "\n",
    "print(baseRDD.collect())"
   ]
  },
  {
   "cell_type": "code",
   "execution_count": null,
   "metadata": {},
   "outputs": [],
   "source": []
  }
 ],
 "metadata": {
  "kernelspec": {
   "display_name": "venv",
   "language": "python",
   "name": "python3"
  },
  "language_info": {
   "codemirror_mode": {
    "name": "ipython",
    "version": 3
   },
   "file_extension": ".py",
   "mimetype": "text/x-python",
   "name": "python",
   "nbconvert_exporter": "python",
   "pygments_lexer": "ipython3",
   "version": "3.10.4"
  },
  "orig_nbformat": 4
 },
 "nbformat": 4,
 "nbformat_minor": 2
}
